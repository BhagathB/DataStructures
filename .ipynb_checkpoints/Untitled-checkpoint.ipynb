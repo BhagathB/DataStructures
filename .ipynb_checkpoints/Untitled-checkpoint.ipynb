{
 "cells": [
  {
   "cell_type": "markdown",
   "metadata": {},
   "source": [
    "# Question 1:\n",
    "\n",
    "Given two strings s and t, determine whether some anagram of t is a substring of s. For example: if s = \"udacity\" and t = \"ad\", then the function returns True. Your function definition should look like: question1(s, t) and return a boolean True or False."
   ]
  },
  {
   "cell_type": "markdown",
   "metadata": {},
   "source": [
    "# Answer  :\n",
    "\n",
    "Using brute force technique, take a string t and check whether each character of t is there in s or not. If not it returns false. This approach can take up to O(n*m) time in worst case. n- length of string s and m-length of string t. \n",
    "\n",
    "So, in order to reduce this time complexity, lets pick a data structure. The only operation we are working here is lookup whether a character is in string s or not. So, trees and heaps have look-up time complexity O(log n) but arrays, hash maps will help to lookup in O(1). Either one will help to solve this problem.\n",
    "\n",
    "I have taken hashmap and rewrite the algorithm like this :\n",
    "\n",
    "    1. Create a dictionary flags.\n",
    "    2. Traverse string s and insert every character into flags. Make the value of this to True.\n",
    "    3. Now, traverse string t. For each character in t :\n",
    "        a. Look whether the character is in dict or not. If yes and value is true, continue, else return false.\n",
    "        \n",
    "Time Complexity : O(m+n) m-length of string t, n- length of string s.\n",
    "As we are traversing two string only once. Traversing of string s will take O(m) and traversing of string t will take O(n) time. "
   ]
  },
  {
   "cell_type": "code",
   "execution_count": 37,
   "metadata": {
    "collapsed": true
   },
   "outputs": [],
   "source": [
    "def question1(s,t):\n",
    "    flags = dict()# size of 128 assumes ASCII\n",
    "    for i in range(0,len(s)) :\n",
    "        flags[s[i].lower()] = True\n",
    "\n",
    "    for i in range(0,len(t)):\n",
    "        if (t[i].lower()) not in flags :\n",
    "            return False\n",
    "        \n",
    "    return True"
   ]
  },
  {
   "cell_type": "code",
   "execution_count": 38,
   "metadata": {},
   "outputs": [
    {
     "name": "stdout",
     "output_type": "stream",
     "text": [
      "True\n"
     ]
    }
   ],
   "source": [
    "s = \"InputString\"\n",
    "t = \"str\"\n",
    "\n",
    "#should return true\n",
    "print question1(s,t) "
   ]
  },
  {
   "cell_type": "markdown",
   "metadata": {},
   "source": [
    "\n",
    "# Question 2:\n",
    "\n",
    "Given a string a, find the longest palindromic substring contained in a. Your function definition should look like question2(a), and return a string."
   ]
  },
  {
   "cell_type": "markdown",
   "metadata": {},
   "source": [
    "# Answer  :\n",
    "\n",
    "Using brute force technique, check each substring whether the substring is a palindrome or not. We can run three loops, the outer two loops pick all substrings one by one by fixing the corner characters, the inner loop checks whether the picked substring is palindrome or not.This approach can take up to O(n^3) time in worst case. n=length of string. \n",
    "\n"
   ]
  },
  {
   "cell_type": "code",
   "execution_count": 14,
   "metadata": {},
   "outputs": [],
   "source": [
    "def question2(a):\n",
    "    if len(a) == 1:\n",
    "        return a\n",
    "    elif len(a) == 2:\n",
    "        if(a[0]==a[1]):\n",
    "            return a\n",
    "        else:\n",
    "            return a[0]\n",
    "    else:\n",
    "        hashMap = {}\n",
    "        for i in range(0,len(a)) : \n",
    "            if a[i] in hashMap:\n",
    "                hashMap[a[i]].append(i)\n",
    "            else:\n",
    "                hashMap[a[i]] = [i]\n",
    "        print hashMap\n",
    "        max_length = 0\n",
    "        for i in hashMap:\n",
    "            if len(hashMap[i])>1:\n",
    "                temp_max_length = isPalindrome(a,hashMap[i])\n",
    "                if max_length < temp_max_length:\n",
    "                    max_length = temp_max_length\n",
    "        return max_length"
   ]
  },
  {
   "cell_type": "code",
   "execution_count": 16,
   "metadata": {
    "collapsed": true
   },
   "outputs": [],
   "source": [
    "def isPalindrome(a , index_list):\n",
    "    max_length = 0\n",
    "    longest_substring = \"\"\n",
    "    for i in range(0,len(index_list)):\n",
    "        for j in range(i+1,len(index_list)):\n",
    "            if isPalindromeIndex(a,index_list[i],index_list[j]) and max_length>(index_list[j]-index_list[i]+1): \n",
    "                longest_substring = a[index_list[i]:index_list[j]]\n",
    "    return longest_substring"
   ]
  },
  {
   "cell_type": "code",
   "execution_count": null,
   "metadata": {
    "collapsed": true
   },
   "outputs": [],
   "source": [
    "def isPalindromeIndex(a, i ,j):\n",
    "    while(i<j):\n",
    "        if a[i] != a[j] :\n",
    "            return false\n",
    "        i = i+1\n",
    "        j = j-1\n",
    "    return true"
   ]
  },
  {
   "cell_type": "code",
   "execution_count": 15,
   "metadata": {},
   "outputs": [
    {
     "name": "stdout",
     "output_type": "stream",
     "text": [
      "{'a': [0, 4], 'c': [2], 'b': [1], 'd': [3]}\n",
      "a\n"
     ]
    }
   ],
   "source": [
    "question2(\"abcda\")"
   ]
  },
  {
   "cell_type": "code",
   "execution_count": null,
   "metadata": {
    "collapsed": true
   },
   "outputs": [],
   "source": []
  }
 ],
 "metadata": {
  "anaconda-cloud": {},
  "kernelspec": {
   "display_name": "Python [default]",
   "language": "python",
   "name": "python2"
  },
  "language_info": {
   "codemirror_mode": {
    "name": "ipython",
    "version": 2
   },
   "file_extension": ".py",
   "mimetype": "text/x-python",
   "name": "python",
   "nbconvert_exporter": "python",
   "pygments_lexer": "ipython2",
   "version": "2.7.12"
  }
 },
 "nbformat": 4,
 "nbformat_minor": 2
}
