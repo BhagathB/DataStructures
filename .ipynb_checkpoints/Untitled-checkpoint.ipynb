{
 "cells": [
  {
   "cell_type": "markdown",
   "metadata": {},
   "source": [
    "# Question 1:\n",
    "\n",
    "Given two strings s and t, determine whether some anagram of t is a substring of s. For example: if s = \"udacity\" and t = \"ad\", then the function returns True. Your function definition should look like: question1(s, t) and return a boolean True or False."
   ]
  },
  {
   "cell_type": "markdown",
   "metadata": {},
   "source": [
    "# Answer  :\n",
    "\n",
    "Using brute force technique, take a string t and check whether each character of t is there in s or not. If not it returns false. This approach can take up to O(n*m) time in worst case. n- length of string s and m-length of string t. \n",
    "\n",
    "So, in order to reduce this time complexity, lets pick a data structure. The only operation we are working here is lookup whether a character is in string s or not. So, trees and heaps have look-up time complexity O(log n) but arrays, hash maps will help to lookup in O(1). Either one will help to solve this problem.\n",
    "\n",
    "I have taken hashmap and rewrite the algorithm like this :\n",
    "\n",
    "    1. Create a dictionary flags.\n",
    "    2. Traverse string s and insert every character into flags. Make the value of this to True.\n",
    "    3. Now, traverse string t. For each character in t :\n",
    "        a. Look whether the character is in dict or not. If yes and value is true, continue, else return false.\n",
    "        \n",
    "Time Complexity : O(m+n) m-length of string t, n- length of string s.\n",
    "As we are traversing two string only once. Traversing of string s will take O(m) and traversing of string t will take O(n) time. "
   ]
  },
  {
   "cell_type": "code",
   "execution_count": 1,
   "metadata": {
    "collapsed": true
   },
   "outputs": [],
   "source": [
    "def question1(s,t):\n",
    "    flags = dict()# size of 128 assumes ASCII\n",
    "    for i in range(0,len(s)) :\n",
    "        flags[s[i].lower()] = True\n",
    "\n",
    "    for i in range(0,len(t)):\n",
    "        if (t[i].lower()) not in flags :\n",
    "            return False\n",
    "        \n",
    "    return True"
   ]
  },
  {
   "cell_type": "code",
   "execution_count": 2,
   "metadata": {},
   "outputs": [
    {
     "name": "stdout",
     "output_type": "stream",
     "text": [
      "True\n"
     ]
    }
   ],
   "source": [
    "s = \"InputString\"\n",
    "t = \"str\"\n",
    "\n",
    "#should return true\n",
    "print question1(s,t) "
   ]
  },
  {
   "cell_type": "markdown",
   "metadata": {},
   "source": [
    "\n",
    "# Question 2:\n",
    "\n",
    "Given a string a, find the longest palindromic substring contained in a. Your function definition should look like question2(a), and return a string."
   ]
  },
  {
   "cell_type": "markdown",
   "metadata": {},
   "source": [
    "# Answer  :\n",
    "\n",
    "Using brute force technique, check each substring whether the substring is a palindrome or not. We can run three loops, the outer two loops pick all substrings one by one by fixing the corner characters, the inner loop checks whether the picked substring is palindrome or not.This approach can take up to O(n^3) time in worst case. n=length of string. \n",
    "\n",
    "Using hashmap, store the indices of each character. Now, for each character whose frequency is greater than 1, get the maximum palindromic sequence using this character as starting point of the palindrome. Out of all sequences, return the palindromic string which has maximum length. It will take O(n^2) in worst case, n = length of string."
   ]
  },
  {
   "cell_type": "code",
   "execution_count": 3,
   "metadata": {},
   "outputs": [],
   "source": [
    "def question2(a):\n",
    "    if len(a) == 1:\n",
    "        return a\n",
    "    elif len(a) == 2:\n",
    "        if(a[0]==a[1]):\n",
    "            return a\n",
    "        else:\n",
    "            return a[0]\n",
    "    else:\n",
    "        hashMap = {}\n",
    "        for i in range(0,len(a)) : \n",
    "            if a[i] in hashMap:\n",
    "                hashMap[a[i]].append(i)\n",
    "            else:\n",
    "                hashMap[a[i]] = [i]\n",
    "        print hashMap\n",
    "        max_length = 1\n",
    "        longest_substring = a[0]\n",
    "        for i in hashMap:\n",
    "            if len(hashMap[i])>1:\n",
    "                temp_longest_substring = isPalindrome(a,hashMap[i])\n",
    "                temp_max_length = len(temp_longest_substring)\n",
    "                if max_length < temp_max_length:\n",
    "                    max_length = temp_max_length\n",
    "                    longest_substring = temp_longest_substring\n",
    "                if max_length == len(a):\n",
    "                    break\n",
    "        return longest_substring"
   ]
  },
  {
   "cell_type": "code",
   "execution_count": 4,
   "metadata": {
    "collapsed": true
   },
   "outputs": [],
   "source": [
    "def isPalindrome(a , index_list):\n",
    "    max_length = 0\n",
    "    longest_substring = \"\"\n",
    "    for i in range(0,len(index_list)):\n",
    "        for j in range(i+1,len(index_list)):\n",
    "            if isPalindromeIndex(a,index_list[i],index_list[j]) and max_length<(index_list[j]-index_list[i]+1): \n",
    "                longest_substring = a[index_list[i]:index_list[j]+1]\n",
    "                max_length = len(longest_substring)\n",
    "    return longest_substring"
   ]
  },
  {
   "cell_type": "code",
   "execution_count": 5,
   "metadata": {
    "collapsed": true
   },
   "outputs": [],
   "source": [
    "def isPalindromeIndex(a, i ,j):\n",
    "    while(i<j):\n",
    "        if a[i].lower() != a[j].lower() :\n",
    "            return False\n",
    "        i = i+1\n",
    "        j = j-1\n",
    "    return True"
   ]
  },
  {
   "cell_type": "code",
   "execution_count": 6,
   "metadata": {},
   "outputs": [
    {
     "name": "stdout",
     "output_type": "stream",
     "text": [
      "{'a': [0, 4, 5], 'c': [2], 'b': [1], 'd': [3]}\n"
     ]
    },
    {
     "data": {
      "text/plain": [
       "'aa'"
      ]
     },
     "execution_count": 6,
     "metadata": {},
     "output_type": "execute_result"
    }
   ],
   "source": [
    "question2(\"abcdaa\")"
   ]
  },
  {
   "cell_type": "markdown",
   "metadata": {},
   "source": [
    "# Question 3 :\n",
    "\n",
    "Given an undirected graph G, find the minimum spanning tree within G. A minimum spanning tree connects all vertices in a graph with the smallest possible total weight of edges. Your function should take in and return an adjacency list structured like this:\n",
    "\n",
    "{'A': [('B', 2)],\n",
    " 'B': [('A', 2), ('C', 5)], \n",
    " 'C': [('B', 5)]}\n",
    "Vertices are represented as unique strings. \n",
    "The function definition should be question3(G)"
   ]
  },
  {
   "cell_type": "markdown",
   "metadata": {},
   "source": [
    "# Question 4 : \n",
    "Find the least common ancestor between two nodes on a binary search tree. The least common ancestor is the farthest node from the root that is an ancestor of both nodes. For example, the root is a common ancestor of all nodes on the tree, but if both nodes are descendents of the root's left child, then that left child might be the lowest common ancestor. You can assume that both nodes are in the tree, and the tree itself adheres to all BST properties. The function definition should look like question4(T, r, n1, n2), where T is the tree represented as a matrix, where the index of the list is equal to the integer stored in that node and a 1 represents a child node, r is a non-negative integer representing the root, and n1 and n2 are non-negative integers representing the two nodes in no particular order. For example, one test case might be"
   ]
  },
  {
   "cell_type": "raw",
   "metadata": {},
   "source": [
    "question4([[0, 1, 0, 0, 0],\n",
    "           [0, 0, 0, 0, 0],\n",
    "           [0, 0, 0, 0, 0],\n",
    "           [1, 0, 0, 0, 1],\n",
    "           [0, 0, 0, 0, 0]],\n",
    "          3,\n",
    "          1,\n",
    "          4)\n",
    "\n",
    "Answer : 3"
   ]
  },
  {
   "cell_type": "markdown",
   "metadata": {},
   "source": [
    "# Answer : \n"
   ]
  },
  {
   "cell_type": "code",
   "execution_count": 13,
   "metadata": {
    "collapsed": true
   },
   "outputs": [],
   "source": [
    "def question4(T, r, n1, n2):\n",
    "    while True : \n",
    "        if r>n1 and r<n2 : \n",
    "            return r\n",
    "        elif r>n1 and r>n2 :\n",
    "            #left traverse\n",
    "            for i in range(0,len(T[0])):\n",
    "                if T[r][i] == 1 :\n",
    "                    if i!=n1 and i!=n2 :\n",
    "                        r = i\n",
    "                        break\n",
    "                    else : \n",
    "                        return r\n",
    "        elif r<n1 and r<n2 :\n",
    "            # right traverse\n",
    "            counter = 0\n",
    "            for i in range(0,len(T[0])):\n",
    "                if T[r][i] == 1 :\n",
    "                    counter += 1\n",
    "                    \n",
    "            for i in range(0,len(T[0])):\n",
    "                if counter == 2 and T[r][i] == 1:\n",
    "                    counter -= 1\n",
    "                if counter == 1 and T[r][i] == 1 :\n",
    "                    if i!=n1 and i!=n2 :\n",
    "                        r = i\n",
    "                        break\n",
    "                    else : \n",
    "                        return r\n",
    "        else :\n",
    "            print \"No root is present for given nodes\"\n",
    "            return"
   ]
  },
  {
   "cell_type": "code",
   "execution_count": 19,
   "metadata": {},
   "outputs": [
    {
     "data": {
      "text/plain": [
       "3"
      ]
     },
     "execution_count": 19,
     "metadata": {},
     "output_type": "execute_result"
    }
   ],
   "source": [
    "question4([[0, 0, 0, 0, 0],\n",
    "           [1, 0, 1, 0, 0],\n",
    "           [0, 0, 0, 0, 0],\n",
    "           [0, 1, 0, 0, 1],\n",
    "           [0, 0, 0, 0, 0]],\n",
    "          3,\n",
    "          1,\n",
    "          4)"
   ]
  },
  {
   "cell_type": "markdown",
   "metadata": {},
   "source": [
    "# Question 5 :\n",
    "\n",
    "Find the element in a singly linked list that's m elements from the end. For example, if a linked list has 5 elements, the 3rd element from the end is the 3rd element. The function definition should look like question5(ll, m), where ll is the first node of a linked list and m is the \"mth number from the end\". You should copy/paste the Node class below to use as a representation of a node in the linked list. Return the value of the node at that position."
   ]
  },
  {
   "cell_type": "markdown",
   "metadata": {},
   "source": [
    "# Answer : \n",
    "\n",
    "Ae we don't know how many nodes are there in Linked List. Traversing list and getting the number of nodes count and then again traversing list using this (count-m) iterations will yield the result. But this approach will take 2 times traversing list and it might be costlier if we have a large list.\n",
    "\n",
    "\n",
    "So, in order to get rid of this problem, using two pointers will help to solve this with one traversal. First pointer traverse to k nodes and second pointer starts traversing from root. Both will increment in each step until first pointer reaches end of nodes and p will be at (n-k)th node. It will take O(n) time complexity and two pointers."
   ]
  },
  {
   "cell_type": "code",
   "execution_count": 7,
   "metadata": {
    "collapsed": true
   },
   "outputs": [],
   "source": [
    "class Node(object):\n",
    "    def __init__(self, data):\n",
    "        self.data = data\n",
    "        self.next = None"
   ]
  },
  {
   "cell_type": "code",
   "execution_count": 8,
   "metadata": {},
   "outputs": [],
   "source": [
    "def question5(ll,m):\n",
    "    p, q = ll, ll\n",
    "    \n",
    "    for i in range(0,m):\n",
    "        if q == None :\n",
    "            print \"List doesn't have \",m,\" nodes\"\n",
    "            return\n",
    "        q = q.next\n",
    "        \n",
    "    while(q != None): \n",
    "        p = p.next \n",
    "        q = q.next\n",
    "    print p.data  "
   ]
  },
  {
   "cell_type": "code",
   "execution_count": 9,
   "metadata": {},
   "outputs": [
    {
     "name": "stdout",
     "output_type": "stream",
     "text": [
      "48\n"
     ]
    }
   ],
   "source": [
    "root = Node(1)\n",
    "temp = root \n",
    "for i in range(2,51):\n",
    "    new_temp = Node(i)\n",
    "    temp.next = new_temp\n",
    "    temp = temp.next\n",
    "\n",
    "question5(root,3)"
   ]
  },
  {
   "cell_type": "code",
   "execution_count": null,
   "metadata": {
    "collapsed": true
   },
   "outputs": [],
   "source": []
  },
  {
   "cell_type": "code",
   "execution_count": null,
   "metadata": {
    "collapsed": true
   },
   "outputs": [],
   "source": []
  }
 ],
 "metadata": {
  "anaconda-cloud": {},
  "kernelspec": {
   "display_name": "Python [default]",
   "language": "python",
   "name": "python2"
  },
  "language_info": {
   "codemirror_mode": {
    "name": "ipython",
    "version": 2
   },
   "file_extension": ".py",
   "mimetype": "text/x-python",
   "name": "python",
   "nbconvert_exporter": "python",
   "pygments_lexer": "ipython2",
   "version": "2.7.12"
  }
 },
 "nbformat": 4,
 "nbformat_minor": 2
}
