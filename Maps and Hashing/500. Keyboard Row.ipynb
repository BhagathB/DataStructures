{
 "cells": [
  {
   "cell_type": "markdown",
   "metadata": {},
   "source": [
    "# 500. Keyboard Row\n",
    "\n",
    "                SOURCE : https://leetcode.com/problems/keyboard-row/description/"
   ]
  },
  {
   "cell_type": "markdown",
   "metadata": {},
   "source": [
    "Given a List of words, return the words that can be typed using letters of alphabet on only one row's of American keyboard.\n"
   ]
  },
  {
   "cell_type": "markdown",
   "metadata": {},
   "source": [
    "    Input: [\"Hello\", \"Alaska\", \"Dad\", \"Peace\"]\n",
    "    Output: [\"Alaska\", \"Dad\"]"
   ]
  },
  {
   "cell_type": "code",
   "execution_count": 1,
   "metadata": {
    "collapsed": true
   },
   "outputs": [],
   "source": [
    "class Solution(object):\n",
    "    def findWords(self, words):\n",
    "        \"\"\"\n",
    "        :type words: List[str]\n",
    "        :rtype: List[str]\n",
    "        \"\"\"\n",
    "        dicti = {1 :['a','s','d','f','g','h','j','k','l'], 2:['q','w','e','r','t','y','u','i','o','p'],3:['z','x','c','v','b','n','m']}\n",
    "        res = []\n",
    "        for word in words :\n",
    "            first = False\n",
    "            second = False\n",
    "            third = False \n",
    "            word = word.lower()\n",
    "            if word[0] in dicti[1]:\n",
    "                first = True\n",
    "                for i in range(1,len(word)):\n",
    "                    if word[i] not in dicti[1]:\n",
    "                        first = False\n",
    "                        break\n",
    "            elif word[0] in dicti[2]:\n",
    "                second  = True\n",
    "                for i in range(1,len(word)):\n",
    "                    if word[i] not in dicti[2]:\n",
    "                        second = False\n",
    "                        break\n",
    "            elif word[0] in dicti[3]:\n",
    "                third  = True\n",
    "                for i in range(1,len(word)):\n",
    "                    if word[i] not in dicti[3]:\n",
    "                        third = False\n",
    "                        break\n",
    "            if(first | second | third ):\n",
    "                res.append(word)\n",
    "        return res "
   ]
  },
  {
   "cell_type": "code",
   "execution_count": 2,
   "metadata": {
    "collapsed": true
   },
   "outputs": [],
   "source": [
    "sol = Solution()"
   ]
  },
  {
   "cell_type": "code",
   "execution_count": 4,
   "metadata": {},
   "outputs": [
    {
     "data": {
      "text/plain": [
       "['ahk', 'akl', 'qwerty', 'bvnm', 'qwq']"
      ]
     },
     "execution_count": 4,
     "metadata": {},
     "output_type": "execute_result"
    }
   ],
   "source": [
    "sol.findWords([\"ahk\",\"akl\",\"qwerty\",\"bvnm\",\"axscdv\",\"awsedr\",\"qasqw\",\"asxas\",\"qwda\",\"qwq\"])"
   ]
  },
  {
   "cell_type": "code",
   "execution_count": null,
   "metadata": {
    "collapsed": true
   },
   "outputs": [],
   "source": []
  }
 ],
 "metadata": {
  "kernelspec": {
   "display_name": "Python 2",
   "language": "python",
   "name": "python2"
  },
  "language_info": {
   "codemirror_mode": {
    "name": "ipython",
    "version": 2
   },
   "file_extension": ".py",
   "mimetype": "text/x-python",
   "name": "python",
   "nbconvert_exporter": "python",
   "pygments_lexer": "ipython2",
   "version": "2.7.13"
  }
 },
 "nbformat": 4,
 "nbformat_minor": 2
}
