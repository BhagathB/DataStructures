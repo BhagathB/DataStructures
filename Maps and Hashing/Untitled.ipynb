{
 "cells": [
  {
   "cell_type": "markdown",
   "metadata": {},
   "source": [
    "# Hash Table Class: \n",
    "\n",
    "Methods to Implement inside this class :\n",
    "    - Create a table (Constructor)\n",
    "    - Store a string inside it\n",
    "    - Lookup for a string\n",
    "    - Calculate Hash Value"
   ]
  },
  {
   "cell_type": "code",
   "execution_count": 16,
   "metadata": {},
   "outputs": [
    {
     "name": "stdout",
     "output_type": "stream",
     "text": [
      "8568\n",
      "-1\n",
      "None\n",
      "-1\n",
      "['UDACITY']\n",
      "-1\n",
      "['UDACITY', 'UDACIOUS']\n"
     ]
    }
   ],
   "source": [
    "class HashTable(object):\n",
    "    def __init__(self):\n",
    "        self.table = [None]*10000\n",
    "\n",
    "    def store(self, string):\n",
    "        \"\"\"Input a string that's stored in \n",
    "        the table.\"\"\"\n",
    "        hash_value = self.calculate_hash_value(string)\n",
    "        print self.table[hash_value]\n",
    "        if self.table[hash_value]!=None: \n",
    "            self.table[hash_value].append(string)\n",
    "        else :\n",
    "            self.table[hash_value] = [string]\n",
    "\n",
    "    def lookup(self, string):\n",
    "        \"\"\"Return the hash value if the\n",
    "        string is already in the table.\n",
    "        Return -1 otherwise.\"\"\"\n",
    "        hash_value = self.calculate_hash_value(string)\n",
    "        if hash_value in self.table:\n",
    "            if string in self.table(hash_value):\n",
    "                return hash_value\n",
    "        return -1\n",
    "\n",
    "    def calculate_hash_value(self, string):\n",
    "        \"\"\"Helper function to calulate a\n",
    "        hash value from a string.\"\"\"\n",
    "\n",
    "        \"\"\" My Hash Fucntion :  Hash Value = (ASCII Value of First Letter * 100) + ASCII Value of Second Letter \n",
    "                                           = get_ascii(string[0]) * 100 + get_ascii(string[1])\n",
    "            Feel free to change the function \n",
    "            \"\"\"              \n",
    "        hash_value = ord(string[0])*100 + ord(string[1])\n",
    "        return hash_value\n",
    "    \n",
    "# Test Class by creating object and calling to objects\n",
    "# Setup\n",
    "hash_table = HashTable()\n",
    "\n",
    "# Test calculate_hash_value\n",
    "# Should be 8568\n",
    "print hash_table.calculate_hash_value('UDACITY')\n",
    "\n",
    "# Test lookup edge case\n",
    "# Should be -1\n",
    "print hash_table.lookup('UDACITY')\n",
    "\n",
    "# Test store\n",
    "hash_table.store('UDACITY')\n",
    "# Should be 8568\n",
    "print hash_table.lookup('UDACITY')\n",
    "\n",
    "# Test store edge case\n",
    "hash_table.store('UDACIOUS')\n",
    "# Should be 8568\n",
    "print hash_table.lookup('UDACIOUS')\n",
    "\n",
    "print hash_table.table[8568]"
   ]
  },
  {
   "cell_type": "code",
   "execution_count": null,
   "metadata": {
    "collapsed": true
   },
   "outputs": [],
   "source": []
  }
 ],
 "metadata": {
  "kernelspec": {
   "display_name": "Python 2",
   "language": "python",
   "name": "python2"
  },
  "language_info": {
   "codemirror_mode": {
    "name": "ipython",
    "version": 2
   },
   "file_extension": ".py",
   "mimetype": "text/x-python",
   "name": "python",
   "nbconvert_exporter": "python",
   "pygments_lexer": "ipython2",
   "version": "2.7.13"
  }
 },
 "nbformat": 4,
 "nbformat_minor": 2
}
