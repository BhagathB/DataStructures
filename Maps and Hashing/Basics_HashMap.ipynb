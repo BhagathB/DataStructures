{
 "cells": [
  {
   "cell_type": "markdown",
   "metadata": {},
   "source": [
    "# Map : \n",
    "In Python, the map concept appears as a built-in data type called a dictionary. A dictionary contains key-value pairs. Dictionaries might soon become your favorite data structure in Python—they're extremely easy to use and useful.\n",
    "\n",
    "Dictionary can be created either using {} or dict() in python."
   ]
  },
  {
   "cell_type": "code",
   "execution_count": 1,
   "metadata": {
    "collapsed": true
   },
   "outputs": [],
   "source": [
    "# example is the name of dictionary and it is given as either {} or dict()\n",
    "example = {}\n",
    "# Uncomment below line to see how dict() can be used\n",
    "# example = dict() \n",
    "example['a'] = 1\n",
    "example['b'] = 2\n",
    "example['c'] = 3\n",
    "example['d'] = 4\n",
    "example['e'] = 5\n",
    "example['f'] = 6"
   ]
  },
  {
   "cell_type": "code",
   "execution_count": 2,
   "metadata": {},
   "outputs": [
    {
     "name": "stdout",
     "output_type": "stream",
     "text": [
      "{'a': 1, 'c': 3, 'b': 2, 'e': 5, 'd': 4, 'f': 6}\n"
     ]
    }
   ],
   "source": [
    "print example"
   ]
  },
  {
   "cell_type": "code",
   "execution_count": 3,
   "metadata": {
    "collapsed": true
   },
   "outputs": [],
   "source": [
    "#create a dict( dict(key : list of values))\n",
    "example2 = {'North America': {'USA': ['Mountain View', 'Atlanta','Dayton','Columbus','Houston','New York','Chicago']}, 'Africa': {'Egypt': ['Cairo']}, 'Asia': {'China': ['Shangai'], 'India': ['Bangalore']}}"
   ]
  },
  {
   "cell_type": "code",
   "execution_count": 4,
   "metadata": {},
   "outputs": [
    {
     "name": "stdout",
     "output_type": "stream",
     "text": [
      "Atlanta\n",
      "Chicago\n",
      "Columbus\n",
      "Dayton\n",
      "Houston\n",
      "Mountain View\n",
      "New York\n"
     ]
    }
   ],
   "source": [
    "#print list of cities in USA in sorted order.\n",
    "citylist = sorted(example2['North America']['USA'])\n",
    "for city in citylist:\n",
    "    print city"
   ]
  },
  {
   "cell_type": "markdown",
   "metadata": {},
   "source": [
    "# Hash Function :\n",
    "\n",
    "Linked Lists, Queue, Stacks will take linear time to lookup for a value in the list. To make this time to a constant or a better time than linear time we use hashing technique. It transforms a value into coded version of the value to retrieve easily. Grouping elements into buckets would be a better approach for large data."
   ]
  },
  {
   "cell_type": "markdown",
   "metadata": {},
   "source": [
    "                            Load Factor = Number of Entries / Number of Buckets\n",
    "\n",
    "The purpose of a load factor is to give us a sense of how \"full\" a hash table is. For example, if we're trying to store 10 values in a hash table with 1000 buckets, the load factor would be 0.01, and the majority of buckets in the table will be empty. We end up wasting memory by having so many empty buckets, so we may want to rehash, or come up with a new hash function with less buckets. We can use our load factor as an indicator for when to rehash—as the load factor approaches 0, the more empty, or sparse, our hash table is. \n",
    "On the flip side, the closer our load factor is to 1 (meaning the number of values equals the number of buckets), the better it would be for us to rehash and add more buckets. Any table with a load value greater than 1 is guaranteed to have collisions. "
   ]
  },
  {
   "cell_type": "code",
   "execution_count": 5,
   "metadata": {
    "collapsed": true
   },
   "outputs": [],
   "source": [
    "def hashFunction(x):\n",
    "    return x%10"
   ]
  },
  {
   "cell_type": "markdown",
   "metadata": {},
   "source": [
    "# Hash Map :\n",
    "\n",
    "Intersections of Hash Function and map. A Python dictionary is a hash map!"
   ]
  },
  {
   "cell_type": "code",
   "execution_count": 13,
   "metadata": {},
   "outputs": [
    {
     "name": "stdout",
     "output_type": "stream",
     "text": [
      "{0: [20]}\n",
      "{0: [20, 10]}\n",
      "{0: [20, 10, 30]}\n",
      "0  is the key and  [20, 10, 30] is the bucket\n"
     ]
    }
   ],
   "source": [
    "#A simple example is given below.\n",
    "example3 = {} # Empty Dict\n",
    "example3[hashFunction(20)] = [20]\n",
    "print example3\n",
    "example3[hashFunction(10)].append(10)\n",
    "print example3\n",
    "example3[hashFunction(30)].append(30)\n",
    "print example3\n",
    "print hashFunction(30),' is the key and ',example3[hashFunction(30)],'is the bucket'"
   ]
  },
  {
   "cell_type": "code",
   "execution_count": 19,
   "metadata": {},
   "outputs": [
    {
     "name": "stdout",
     "output_type": "stream",
     "text": [
      "Random 50 elements of range 1 to 1500 :  [ 826  630  808  222  670 1298  660  134  289 1217 1073 1451 1153 1317  262\n",
      " 1358   84   84  983 1176   63 1372  170 1291  327  773  625 1093  934 1326\n",
      "  631  527  665 1110 1256  850  608  717  926  109  865   66  777  795   75\n",
      "  908 1252  112  919  493]\n",
      "\n",
      "\n",
      "Hash Map is : {0: [630, 670, 660, 170, 1110, 850], 1: [1451, 1291, 631], 2: [222, 262, 1372, 1252, 112], 3: [1073, 1153, 983, 63, 773, 1093, 493], 4: [134, 84, 84, 934], 5: [625, 665, 865, 795, 75], 6: [826, 1176, 1326, 1256, 926, 66], 7: [1217, 1317, 327, 527, 717, 777], 8: [808, 1298, 1358, 608, 908], 9: [289, 109, 919]} \n",
      "\n",
      "list of keys are :  [0, 1, 2, 3, 4, 5, 6, 7, 8, 9]\n"
     ]
    }
   ],
   "source": [
    "#Insert random 50 elements into a dict using Hashfunction\n",
    "import numpy as np\n",
    "ElementstoInsert = np.random.choice(1500, 50)\n",
    "print 'Random 50 elements of range 1 to 1500 : ',ElementstoInsert\n",
    "print '\\n'\n",
    "example4 = {}\n",
    "for element in ElementstoInsert :\n",
    "    key = hashFunction(element)\n",
    "    if(key in example4 ):\n",
    "        example4[key].append(element)\n",
    "    else:\n",
    "        example4[key] = [element]\n",
    "print 'Hash Map is :',example4,'\\n'\n",
    "print 'list of keys are : ',example4.keys()"
   ]
  },
  {
   "cell_type": "code",
   "execution_count": null,
   "metadata": {
    "collapsed": true
   },
   "outputs": [],
   "source": []
  }
 ],
 "metadata": {
  "kernelspec": {
   "display_name": "Python 2",
   "language": "python",
   "name": "python2"
  },
  "language_info": {
   "codemirror_mode": {
    "name": "ipython",
    "version": 2
   },
   "file_extension": ".py",
   "mimetype": "text/x-python",
   "name": "python",
   "nbconvert_exporter": "python",
   "pygments_lexer": "ipython2",
   "version": "2.7.13"
  }
 },
 "nbformat": 4,
 "nbformat_minor": 2
}
