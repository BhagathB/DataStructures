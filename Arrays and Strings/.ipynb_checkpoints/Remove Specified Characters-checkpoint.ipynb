{
 "cells": [
  {
   "cell_type": "markdown",
   "metadata": {},
   "source": [
    "# Question :\n",
    "\n",
    "Write an efficient function that deletes characters from an ASCII string. Use the prototype \n",
    "    \n",
    "        string removeChars(string strs, string remove);\n",
    "       \n",
    "Where any character existing in remove must be deleted from str. For example, given a string of \"Battle of the vowels: Hawaii vs. Grozny\" and a remove string of \"aeiou\", the function should transfor to \"Bttl f th Vwls: Hw vs. Grzny\". Justify any design decisions you make, and discuss the efficiency of your solution. "
   ]
  },
  {
   "cell_type": "markdown",
   "metadata": {},
   "source": [
    "# Answer :\n",
    "\n",
    "There are 2 tasks :\n",
    "\n",
    "1. For each character in a string, Determine whether a character to be deleted or not.\n",
    "        Create a lookup array for the remove elements. Set all the elements to false. Now traverse through remove string, and set all the chars from remove string in lookup array to true. Iterate through given string and copy each character only if correspondingvalue in the lookup array is false.\n",
    "\n",
    "2. Delete the character.\n",
    "        As strings are immutable objects, we create a temp string and copy elements into the temporary string.\n",
    "        \n",
    "Time Complexity : O(m+n), here m is length of given string and n is length of removing string. \n"
   ]
  },
  {
   "cell_type": "code",
   "execution_count": 31,
   "metadata": {},
   "outputs": [],
   "source": [
    "def removeChars(string,remove):\n",
    "    string = list(string)\n",
    "    remove = list(remove) # strings are immutable. So convert to list.\n",
    "    src,dst = 0,0\n",
    "    \n",
    "    flags = dict()# size of 128 assumes ASCII\n",
    "    for i in range(0,len(remove)) :\n",
    "        flags[remove[i]] = True\n",
    "        \n",
    "    for src in range(0,len(string)):\n",
    "        if string[src] not in flags :\n",
    "            string[dst] = string[src]\n",
    "            dst = dst + 1\n",
    "            \n",
    "    newstring = ''.join(string[0:dst])\n",
    "    return newstring"
   ]
  },
  {
   "cell_type": "code",
   "execution_count": 32,
   "metadata": {},
   "outputs": [
    {
     "name": "stdout",
     "output_type": "stream",
     "text": [
      "New string after removing specified characters is :  Bttl f th Vwls: Hw vs. Grzny\n"
     ]
    }
   ],
   "source": [
    "string = \"Battle of the Vowels: Hawaii vs. Grozny\"\n",
    "remove = \"aeiou\"\n",
    "string = removeChars(string,remove)\n",
    "print \"New string after removing specified characters is : \", string"
   ]
  },
  {
   "cell_type": "code",
   "execution_count": null,
   "metadata": {
    "collapsed": true
   },
   "outputs": [],
   "source": []
  }
 ],
 "metadata": {
  "kernelspec": {
   "display_name": "Python 2",
   "language": "python",
   "name": "python2"
  },
  "language_info": {
   "codemirror_mode": {
    "name": "ipython",
    "version": 2
   },
   "file_extension": ".py",
   "mimetype": "text/x-python",
   "name": "python",
   "nbconvert_exporter": "python",
   "pygments_lexer": "ipython2",
   "version": "2.7.13"
  }
 },
 "nbformat": 4,
 "nbformat_minor": 2
}
