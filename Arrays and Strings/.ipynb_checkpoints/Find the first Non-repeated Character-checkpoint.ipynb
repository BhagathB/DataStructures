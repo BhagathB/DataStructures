{
 "cells": [
  {
   "cell_type": "markdown",
   "metadata": {},
   "source": [
    "# Question :\n",
    "Write an efficient function to find the first nonrepeated character in a string. For instance, the first nonrepeated character in \"total\" is 'o' and the first non-repeated character in \"teeter\" is 's'. Discuss the efficiency of algorithm."
   ]
  },
  {
   "cell_type": "markdown",
   "metadata": {},
   "source": [
    "# Answer : \n",
    "\n",
    "Using brute force approach we get O(n^2) time complexity in worst case, which is not a good approach for this problem. So, a better data structure would yield better result. As the key concept involves in lookup. Binary tree will take O(log n) time to look up for an element. Hash table or array will take O(1) to lookup.\n",
    "\n",
    "Hence, using hashtable we can create an algorithm that takes O(n) time to insert values of string into hash table and O(1) for lookup.\n",
    "\n",
    "- Algorithm :\n",
    "       \n",
    "       1. Create a hash table \n",
    "       2. For each character in the string :\n",
    "           a. Lookup in hash table, if present : \n",
    "               Increase count by 1\n",
    "           b. else :\n",
    "               store 1 for the character in hash table.\n",
    "       3. Traverse the string again. For each character :\n",
    "           a. Look up the value of character\n",
    "               if value == 1:\n",
    "                   return character\n",
    "         \n",
    "- Time Complexity : O(n)\n",
    "\n",
    "\n",
    "Increase the efficiency by taking three flags i.e., seen , seenOnce, seenMultiple. instead of incrementing by 1 everytime."
   ]
  },
  {
   "cell_type": "code",
   "execution_count": 1,
   "metadata": {
    "collapsed": true
   },
   "outputs": [],
   "source": [
    "def getHashTable(string):\n",
    "    hashTable = dict()\n",
    "    seen = 0\n",
    "    seenOnce = 1\n",
    "    seenMultiple = 2\n",
    "    for i in range(0,len(string)) :\n",
    "        if string[i] in hashTable:\n",
    "            if hashTable[string[i]] == seenOnce :\n",
    "                hashTable[string[i]] = seenMultiple\n",
    "        else :\n",
    "            hashTable[string[i]] = seenOnce\n",
    "    return hashTable"
   ]
  },
  {
   "cell_type": "code",
   "execution_count": 2,
   "metadata": {
    "collapsed": true
   },
   "outputs": [],
   "source": [
    "def findNonRepeatedCharacter(string):\n",
    "    hashTable = getHashTable(string)\n",
    "    seen = 0\n",
    "    seenOnce = 1\n",
    "    seenMultiple = 2\n",
    "    for i in string: \n",
    "        if hashTable[i] == seenOnce :\n",
    "            return i\n",
    "    return None"
   ]
  },
  {
   "cell_type": "code",
   "execution_count": 4,
   "metadata": {},
   "outputs": [
    {
     "name": "stdout",
     "output_type": "stream",
     "text": [
      "The first non-repeated character in string : \" first \" is : f\n",
      "The first non-repeated character in string : \" non \" is : o\n",
      "The first non-repeated character in string : \" repeater \" is : p\n",
      "The first non-repeated character in string : \" total \" is : o\n"
     ]
    }
   ],
   "source": [
    "strings = ['first','non','repeater','total']\n",
    "for string in strings :\n",
    "    NRC = findNonRepeatedCharacter(string)\n",
    "    print 'The first non-repeated character in string : \"',string,'\" is :',NRC"
   ]
  },
  {
   "cell_type": "code",
   "execution_count": null,
   "metadata": {
    "collapsed": true
   },
   "outputs": [],
   "source": []
  }
 ],
 "metadata": {
  "kernelspec": {
   "display_name": "Python 2",
   "language": "python",
   "name": "python2"
  },
  "language_info": {
   "codemirror_mode": {
    "name": "ipython",
    "version": 2
   },
   "file_extension": ".py",
   "mimetype": "text/x-python",
   "name": "python",
   "nbconvert_exporter": "python",
   "pygments_lexer": "ipython2",
   "version": "2.7.13"
  }
 },
 "nbformat": 4,
 "nbformat_minor": 2
}
