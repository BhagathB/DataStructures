{
 "cells": [
  {
   "cell_type": "code",
   "execution_count": 2,
   "metadata": {},
   "outputs": [
    {
     "name": "stdout",
     "output_type": "stream",
     "text": [
      "Number of elements in a is :  10\n"
     ]
    }
   ],
   "source": [
    "a  = [21,4,1,3,9,20,25,6,21,14]\n",
    "print 'Number of elements in a is : ',len(a)"
   ]
  },
  {
   "cell_type": "markdown",
   "metadata": {},
   "source": [
    "# Bubble Sort : \n",
    "In each iteration, the max element bubble up(maximum valued element moves to last)\n",
    "\n",
    "# Time Complexity :\n",
    "- Worst Case - O(n^2)\n",
    "- Average Case - O(n^2)\n",
    "- Best Case - O(n)\n",
    "\n",
    "# Space Complexity: \n",
    "- O(1)"
   ]
  },
  {
   "cell_type": "code",
   "execution_count": 3,
   "metadata": {},
   "outputs": [
    {
     "name": "stdout",
     "output_type": "stream",
     "text": [
      "Iteration Updates :\n",
      "iteration count  1  and a is  [4, 1, 3, 9, 20, 21, 6, 21, 14, 25]\n",
      "iteration count  2  and a is  [1, 3, 4, 9, 20, 6, 21, 14, 21, 25]\n",
      "iteration count  3  and a is  [1, 3, 4, 9, 6, 20, 14, 21, 21, 25]\n",
      "iteration count  4  and a is  [1, 3, 4, 6, 9, 14, 20, 21, 21, 25]\n",
      "iteration count  5  and a is  [1, 3, 4, 6, 9, 14, 20, 21, 21, 25]\n",
      "iteration count  6  and a is  [1, 3, 4, 6, 9, 14, 20, 21, 21, 25]\n",
      "iteration count  7  and a is  [1, 3, 4, 6, 9, 14, 20, 21, 21, 25]\n",
      "iteration count  8  and a is  [1, 3, 4, 6, 9, 14, 20, 21, 21, 25]\n",
      "iteration count  9  and a is  [1, 3, 4, 6, 9, 14, 20, 21, 21, 25]\n",
      "iteration count  10  and a is  [1, 3, 4, 6, 9, 14, 20, 21, 21, 25]\n",
      "Sorted array after using bubble sort is : [1, 3, 4, 6, 9, 14, 20, 21, 21, 25]\n"
     ]
    }
   ],
   "source": [
    "def bubbleSortFunction(a):\n",
    "    count = 0 \n",
    "    print 'Iteration Updates :'\n",
    "    for j in range(0,len(a)):\n",
    "        for i in range(0,len(a)-1):\n",
    "            if(a[i]>a[i+1]):\n",
    "                temp = a[i]\n",
    "                a[i] = a[i+1]\n",
    "                a[i+1] = temp\n",
    "        print 'iteration count ',j+1,' and a is ',a\n",
    "    return a\n",
    "bubbleSortedA = bubbleSortFunction(a)\n",
    "print 'Sorted array after using bubble sort is :', bubbleSortedA"
   ]
  },
  {
   "cell_type": "markdown",
   "metadata": {},
   "source": [
    "# Merge Sort : \n",
    "divide the list into bunch of lists with one element each and append each list by sorting.\n",
    "\n",
    "# Time Complexity :\n",
    "- Worst Case - O(n^2)\n",
    "- Average Case - O(n*log(n))\n",
    "- Best Case - O(n)\n",
    "\n",
    "# Space Complexity: \n",
    "- O(n)"
   ]
  },
  {
   "cell_type": "code",
   "execution_count": 6,
   "metadata": {},
   "outputs": [
    {
     "name": "stdout",
     "output_type": "stream",
     "text": [
      "('Splitting ', [1, 3, 4, 6, 9, 14, 20, 21, 21, 25])\n",
      "('Splitting ', [1, 3, 4, 6, 9])\n",
      "('Splitting ', [1, 3])\n",
      "('Splitting ', [1])\n",
      "('Merging ', [1])\n",
      "('Splitting ', [3])\n",
      "('Merging ', [3])\n",
      "('Merging ', [1, 3])\n",
      "('Splitting ', [4, 6, 9])\n",
      "('Splitting ', [4])\n",
      "('Merging ', [4])\n",
      "('Splitting ', [6, 9])\n",
      "('Splitting ', [6])\n",
      "('Merging ', [6])\n",
      "('Splitting ', [9])\n",
      "('Merging ', [9])\n",
      "('Merging ', [6, 9])\n",
      "('Merging ', [4, 6, 9])\n",
      "('Merging ', [1, 3, 4, 6, 9])\n",
      "('Splitting ', [14, 20, 21, 21, 25])\n",
      "('Splitting ', [14, 20])\n",
      "('Splitting ', [14])\n",
      "('Merging ', [14])\n",
      "('Splitting ', [20])\n",
      "('Merging ', [20])\n",
      "('Merging ', [14, 20])\n",
      "('Splitting ', [21, 21, 25])\n",
      "('Splitting ', [21])\n",
      "('Merging ', [21])\n",
      "('Splitting ', [21, 25])\n",
      "('Splitting ', [21])\n",
      "('Merging ', [21])\n",
      "('Splitting ', [25])\n",
      "('Merging ', [25])\n",
      "('Merging ', [21, 25])\n",
      "('Merging ', [21, 21, 25])\n",
      "('Merging ', [14, 20, 21, 21, 25])\n",
      "('Merging ', [1, 3, 4, 6, 9, 14, 20, 21, 21, 25])\n",
      "Sorted array after using Merge sort is : [1, 3, 4, 6, 9, 14, 20, 21, 21, 25]\n"
     ]
    }
   ],
   "source": [
    "def mergeSort(alist):\n",
    "    print(\"Splitting \",alist)\n",
    "    if len(alist)>1:\n",
    "        mid = len(alist)/2\n",
    "        lefthalf = alist[:mid]\n",
    "        righthalf = alist[mid:]\n",
    "\n",
    "        mergeSort(lefthalf)\n",
    "        mergeSort(righthalf)\n",
    "\n",
    "        i=0\n",
    "        j=0\n",
    "        k=0\n",
    "        while i < len(lefthalf) and j < len(righthalf):\n",
    "            if lefthalf[i] < righthalf[j]:\n",
    "                alist[k]=lefthalf[i]\n",
    "                i=i+1\n",
    "            else:\n",
    "                alist[k]=righthalf[j]\n",
    "                j=j+1\n",
    "            k=k+1\n",
    "\n",
    "        while i < len(lefthalf):\n",
    "            alist[k]=lefthalf[i]\n",
    "            i=i+1\n",
    "            k=k+1\n",
    "\n",
    "        while j < len(righthalf):\n",
    "            alist[k]=righthalf[j]\n",
    "            j=j+1\n",
    "            k=k+1\n",
    "    print(\"Merging \",alist)\n",
    "    return alist\n",
    "\n",
    "MergeSortedA = mergeSort(a)\n",
    "print 'Sorted array after using Merge sort is :', MergeSortedA"
   ]
  },
  {
   "cell_type": "markdown",
   "metadata": {},
   "source": [
    "# Quick Sort : \n",
    "Select a pivot and move it accordingly so that all elements less than it are on left side of list and repeat this process.\n",
    "\n",
    "# Time Complexity :\n",
    "- Worst Case - O(n^2)\n",
    "- Average Case - O(n*log(n))\n",
    "- Best Case - O(n)\n",
    "\n",
    "# Space Complexity: \n",
    "- O(1)"
   ]
  },
  {
   "cell_type": "code",
   "execution_count": 13,
   "metadata": {},
   "outputs": [
    {
     "name": "stdout",
     "output_type": "stream",
     "text": [
      "('pivot elemnt is :', 1)\n",
      "('pivot elemnt is :', 3)\n",
      "('pivot elemnt is :', 4)\n",
      "('pivot elemnt is :', 6)\n",
      "('pivot elemnt is :', 9)\n",
      "('pivot elemnt is :', 14)\n",
      "('pivot elemnt is :', 20)\n",
      "('pivot elemnt is :', 21)\n",
      "Sorted array after using Quick sort is : [1, 3, 4, 6, 9, 14, 20, 21, 21, 25]\n"
     ]
    }
   ],
   "source": [
    "def quicksort(array):\n",
    "    quickSortHelper(array,0,len(array)-1)\n",
    "    return array\n",
    "\n",
    "def quickSortHelper(alist,first,last):\n",
    "    if first<last:\n",
    "        splitpoint = partition(alist,first,last)\n",
    "        print('pivot elemnt is :', alist[splitpoint])\n",
    "        quickSortHelper(alist,first,splitpoint-1)\n",
    "        quickSortHelper(alist,splitpoint+1,last)\n",
    "\n",
    "\n",
    "def partition(alist,first,last):\n",
    "    pivotvalue = alist[first]\n",
    "\n",
    "    leftmark = first+1\n",
    "    rightmark = last\n",
    "\n",
    "    done = False\n",
    "    while not done:\n",
    "\n",
    "        while leftmark <= rightmark and alist[leftmark] <= pivotvalue:\n",
    "            leftmark = leftmark + 1\n",
    "\n",
    "        while alist[rightmark] >= pivotvalue and rightmark >= leftmark:\n",
    "            rightmark = rightmark -1\n",
    "\n",
    "        if rightmark < leftmark:\n",
    "            done = True\n",
    "        else:\n",
    "            temp = alist[leftmark]\n",
    "            alist[leftmark] = alist[rightmark]\n",
    "            alist[rightmark] = temp\n",
    "\n",
    "    temp = alist[first]\n",
    "    alist[first] = alist[rightmark]\n",
    "    alist[rightmark] = temp\n",
    "    return rightmark\n",
    "\n",
    "quicksortedA = quicksort(a)\n",
    "print 'Sorted array after using Quick sort is :', quicksortedA"
   ]
  },
  {
   "cell_type": "code",
   "execution_count": null,
   "metadata": {
    "collapsed": true
   },
   "outputs": [],
   "source": []
  }
 ],
 "metadata": {
  "kernelspec": {
   "display_name": "Python 2",
   "language": "python",
   "name": "python2"
  },
  "language_info": {
   "codemirror_mode": {
    "name": "ipython",
    "version": 2
   },
   "file_extension": ".py",
   "mimetype": "text/x-python",
   "name": "python",
   "nbconvert_exporter": "python",
   "pygments_lexer": "ipython2",
   "version": "2.7.13"
  }
 },
 "nbformat": 4,
 "nbformat_minor": 2
}
