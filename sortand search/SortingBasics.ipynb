{
 "cells": [
  {
   "cell_type": "code",
   "execution_count": 22,
   "metadata": {},
   "outputs": [
    {
     "name": "stdout",
     "output_type": "stream",
     "text": [
      "Number of elements in a is :  10\n"
     ]
    }
   ],
   "source": [
    "a  = [21,4,1,3,9,20,25,6,21,14]\n",
    "print 'Number of elements in a is : ',len(a)"
   ]
  },
  {
   "cell_type": "markdown",
   "metadata": {},
   "source": [
    "# Bubble Sort : \n",
    "In each iteration, the max element bubble up(maximum valued element moves to last)\n",
    "\n",
    "# Time Complexity :\n",
    "- Worst Case - O(n^2)\n",
    "- Average Case - O(n^2)\n",
    "- Best Case - O(n)\n",
    "\n",
    "# Space Complexity: \n",
    "- O(1)"
   ]
  },
  {
   "cell_type": "code",
   "execution_count": 23,
   "metadata": {},
   "outputs": [
    {
     "name": "stdout",
     "output_type": "stream",
     "text": [
      "Iteration :\n",
      "iteration count  1  and a is  [4, 1, 3, 9, 20, 21, 6, 21, 14, 25]\n",
      "iteration count  2  and a is  [1, 3, 4, 9, 20, 6, 21, 14, 21, 25]\n",
      "iteration count  3  and a is  [1, 3, 4, 9, 6, 20, 14, 21, 21, 25]\n",
      "iteration count  4  and a is  [1, 3, 4, 6, 9, 14, 20, 21, 21, 25]\n",
      "iteration count  5  and a is  [1, 3, 4, 6, 9, 14, 20, 21, 21, 25]\n",
      "iteration count  6  and a is  [1, 3, 4, 6, 9, 14, 20, 21, 21, 25]\n",
      "iteration count  7  and a is  [1, 3, 4, 6, 9, 14, 20, 21, 21, 25]\n",
      "iteration count  8  and a is  [1, 3, 4, 6, 9, 14, 20, 21, 21, 25]\n",
      "iteration count  9  and a is  [1, 3, 4, 6, 9, 14, 20, 21, 21, 25]\n",
      "iteration count  10  and a is  [1, 3, 4, 6, 9, 14, 20, 21, 21, 25]\n",
      "Sorted array after using bubble sort is : [1, 3, 4, 6, 9, 14, 20, 21, 21, 25]\n"
     ]
    }
   ],
   "source": [
    "def bubbleSortFunction(a):\n",
    "    count = 0 \n",
    "    print 'Iteration Updates :'\n",
    "    for j in range(0,len(a)):\n",
    "        for i in range(0,len(a)-1):\n",
    "            if(a[i]>a[i+1]):\n",
    "                temp = a[i]\n",
    "                a[i] = a[i+1]\n",
    "                a[i+1] = temp\n",
    "        print 'iteration count ',j+1,' and a is ',a\n",
    "    return a\n",
    "bubbleSortedA = bubbleSortFunction(a)\n",
    "print 'Sorted array after using bubble sort is :', bubbleSortedA"
   ]
  },
  {
   "cell_type": "markdown",
   "metadata": {},
   "source": [
    "# Merge Sort : \n",
    "divide the list into bunch of lists with one element each and append each list by sorting.\n",
    "\n",
    "# Time Complexity :\n",
    "- Worst Case - O(n^2)\n",
    "- Average Case - O(n*log(n))\n",
    "- Best Case - O(n)\n",
    "\n",
    "# Space Complexity: \n",
    "- O(n)"
   ]
  },
  {
   "cell_type": "code",
   "execution_count": 24,
   "metadata": {},
   "outputs": [
    {
     "name": "stdout",
     "output_type": "stream",
     "text": [
      "Iteration Updates :\n",
      "iteration count  10  and a is  [1, 3, 4, 6, 9, 14, 20, 21, 21, 25]\n",
      "Sorted array after using Merge sort is : [1, 3, 4, 6, 9, 14, 20, 21, 21, 25]\n"
     ]
    }
   ],
   "source": [
    "def MergeSortFunction(a):\n",
    "    count = 0 \n",
    "    print 'Iteration Updates :'\n",
    "    \n",
    "    print 'iteration count ',j+1,' and a is ',a\n",
    "    return a\n",
    "MergeSortedA = MergeSortFunction(a)\n",
    "print 'Sorted array after using Merge sort is :', MergeSortedA"
   ]
  },
  {
   "cell_type": "code",
   "execution_count": null,
   "metadata": {
    "collapsed": true
   },
   "outputs": [],
   "source": []
  }
 ],
 "metadata": {
  "kernelspec": {
   "display_name": "Python 2",
   "language": "python",
   "name": "python2"
  },
  "language_info": {
   "codemirror_mode": {
    "name": "ipython",
    "version": 2
   },
   "file_extension": ".py",
   "mimetype": "text/x-python",
   "name": "python",
   "nbconvert_exporter": "python",
   "pygments_lexer": "ipython2",
   "version": "2.7.13"
  }
 },
 "nbformat": 4,
 "nbformat_minor": 2
}
