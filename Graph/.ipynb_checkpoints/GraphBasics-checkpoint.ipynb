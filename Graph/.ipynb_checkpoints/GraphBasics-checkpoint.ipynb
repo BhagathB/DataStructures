{
 "cells": [
  {
   "cell_type": "markdown",
   "metadata": {},
   "source": [
    "# Graph Data Structure Implementation\n",
    "\n",
    "Graph is a data structure that consists of following two components:\n",
    "1. A finite set of vertices also called as nodes.\n",
    "2. A finite set of ordered pair of the form (u, v) called as edge. The pair is ordered because (u, v) is not same as (v, u) in case of directed graph(di-graph). The pair of form (u, v) indicates that there is an edge from vertex u to vertex v. The edges may contain weight/value/cost.\n",
    "\n",
    "The basic operations provided by a graph data structure G usually include:\n",
    "1. adjacent(G, x, y): tests whether there is an edge from the vertex x to the vertex y;\n",
    "2. neighbors(G, x): lists all vertices y such that there is an edge from the vertex x to the vertex y;\n",
    "3. add_vertex(G, x): adds the vertex x, if it is not there;\n",
    "4. remove_vertex(G, x): removes the vertex x, if it is there;\n",
    "5. add_edge(G, x, y): adds the edge from the vertex x to the vertex y, if it is not there;\n",
    "6. remove_edge(G, x, y): removes the edge from the vertex x to the vertex y, if it is there;\n",
    "7. get_vertex_value(G, x): returns the v\n",
    "alue associated with the vertex x;\n",
    "8. set_vertex_value(G, x, v): sets the value associated with the vertex x to v.\n",
    "9. get_edge_value(G, x, y): returns the value associated with the edge (x, y).\n",
    "10. set_edge_value(G, x, y, v): sets the value associated with the edge (x, y) to v."
   ]
  },
  {
   "cell_type": "code",
   "execution_count": 6,
   "metadata": {},
   "outputs": [],
   "source": [
    "class Graph:\n",
    "    #Constructor for the class Graph\n",
    "    def __init__(self,num_of_vertices):\n",
    "        self.num_of_vertices = num_of_vertices\n",
    "        self.vertex_list = {}\n",
    "     \n",
    "    #add Vertex to the graph and x is the vertex\n",
    "    def add_vertex(self,x):\n",
    "        is_vertex_present = self.check_vertex(x)\n",
    "        if(is_vertex_present) :\n",
    "            return 'already in list'\n",
    "        else :\n",
    "            self.vertex_list[x] = None\n",
    "            self.num_of_vertices += 1\n",
    "            return 'added to list :',x\n",
    "    \n",
    "    #get vertex value of a vertex in the graph\n",
    "    def get_vertex_value(self,x):\n",
    "        is_vertex_present = self.check_vertex(x)\n",
    "        if (is_vertex_present):\n",
    "            return 'vertex value is ',self.vertex_list[x]\n",
    "        else :\n",
    "            return 'vertex is not found in the Graph'\n",
    "    \n",
    "    #Set the vertex value of a vertex in the graph\n",
    "    def set_vertex_value(self,x,v):\n",
    "        is_vertex_present = self.check_vertex(x)\n",
    "        if (is_vertex_present):\n",
    "            self.vertex_list[x] = v\n",
    "            return 'New vertex value is ',self.vertex_list[x]\n",
    "        else :\n",
    "            return 'vertex is not found in the Graph'\n",
    "    \n",
    "    #This will return vertext_list[vertex] if vertex exists in the dictionary, and None otherwise. \n",
    "    def remove_vertex(self,x):\n",
    "        return self.vertex_list.pop(x,None)\n",
    "    \n",
    "    def adjacent(self,x,y):\n",
    "        pass\n",
    "    \n",
    "    def neighbors(self,x):\n",
    "        pass\n",
    "    \n",
    "    def add_edge(self,x,y):\n",
    "        pass\n",
    "    \n",
    "    def remove_edge(self,x,y):\n",
    "        pass\n",
    "    \n",
    "    def get_edge_value(self,x,y):\n",
    "        pass\n",
    "    \n",
    "    def set_edge_value(self,x,y,v):\n",
    "        pass\n",
    "    \n",
    "    def get_number_of_vertices(self):\n",
    "        return self.num_of_vertices\n",
    "    \n",
    "    def check_vertex(self,x):\n",
    "        if(x in self.vertex_list) :\n",
    "            return True\n",
    "        else :\n",
    "            return False\n",
    "    "
   ]
  },
  {
   "cell_type": "code",
   "execution_count": 7,
   "metadata": {
    "collapsed": true
   },
   "outputs": [],
   "source": [
    "def main():\n",
    "    num_of_vertices = int(input(\"Enter number of vertices\"))\n",
    "    G = Graph(num_of_vertices)\n",
    "    for i in range(1,10):\n",
    "        print G.add_vertex(i*4)\n",
    "    print G.get_number_of_vertices()"
   ]
  },
  {
   "cell_type": "code",
   "execution_count": 8,
   "metadata": {},
   "outputs": [
    {
     "name": "stdout",
     "output_type": "stream",
     "text": [
      "Enter number of vertices0\n",
      "('added to list :', 4)\n",
      "('added to list :', 8)\n",
      "('added to list :', 12)\n",
      "('added to list :', 16)\n",
      "('added to list :', 20)\n",
      "('added to list :', 24)\n",
      "('added to list :', 28)\n",
      "('added to list :', 32)\n",
      "('added to list :', 36)\n",
      "9\n"
     ]
    }
   ],
   "source": [
    "if  __name__ =='__main__':main()"
   ]
  },
  {
   "cell_type": "markdown",
   "metadata": {},
   "source": [
    "# Resources \n",
    "\n",
    "1. http://www.geeksforgeeks.org/graph-data-structure-and-algorithms/\n",
    "2. http://www.geeksforgeeks.org/graph-and-its-representations/\n",
    "3. https://en.wikipedia.org/wiki/Graph_%28abstract_data_type%29\n",
    "4. https://www.youtube.com/watch?v=gXgEDyodOJU"
   ]
  },
  {
   "cell_type": "code",
   "execution_count": null,
   "metadata": {
    "collapsed": true
   },
   "outputs": [],
   "source": []
  }
 ],
 "metadata": {
  "anaconda-cloud": {},
  "kernelspec": {
   "display_name": "Python [default]",
   "language": "python",
   "name": "python2"
  },
  "language_info": {
   "codemirror_mode": {
    "name": "ipython",
    "version": 2
   },
   "file_extension": ".py",
   "mimetype": "text/x-python",
   "name": "python",
   "nbconvert_exporter": "python",
   "pygments_lexer": "ipython2",
   "version": "2.7.12"
  }
 },
 "nbformat": 4,
 "nbformat_minor": 2
}
