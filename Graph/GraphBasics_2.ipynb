{
 "cells": [
  {
   "cell_type": "markdown",
   "metadata": {},
   "source": [
    "# Graph Data Structure Implementation - 2\n",
    "\n",
    "Graph is a data structure that consists of following two components:\n",
    "1. A finite set of vertices also called as nodes.\n",
    "2. A finite set of ordered pair of the form (u, v) called as edge. The pair is ordered because (u, v) is not same as (v, u) in case of directed graph(di-graph). The pair of form (u, v) indicates that there is an edge from vertex u to vertex v. The edges may contain weight/value/cost.\n",
    "\n",
    "The basic operations provided by a graph data structure G usually include:\n",
    "1. adjacent(G, x, y): tests whether there is an edge from the vertex x to the vertex y;\n",
    "2. neighbors(G, x): lists all vertices y such that there is an edge from the vertex x to the vertex y;\n",
    "3. add_vertex(G, x): adds the vertex x, if it is not there;\n",
    "4. remove_vertex(G, x): removes the vertex x, if it is there;\n",
    "5. add_edge(G, x, y): adds the edge from the vertex x to the vertex y, if it is not there;\n",
    "6. remove_edge(G, x, y): removes the edge from the vertex x to the vertex y, if it is there;\n",
    "7. get_vertex_value(G, x): returns the v\n",
    "alue associated with the vertex x;\n",
    "8. set_vertex_value(G, x, v): sets the value associated with the vertex x to v.\n",
    "9. get_edge_value(G, x, y): returns the value associated with the edge (x, y).\n",
    "10. set_edge_value(G, x, y, v): sets the value associated with the edge (x, y) to v."
   ]
  },
  {
   "cell_type": "code",
   "execution_count": 119,
   "metadata": {
    "collapsed": true
   },
   "outputs": [],
   "source": [
    "class Node(object):\n",
    "    def __init__(self, value):\n",
    "        self.value = value\n",
    "        self.edges = []"
   ]
  },
  {
   "cell_type": "code",
   "execution_count": 120,
   "metadata": {
    "collapsed": true
   },
   "outputs": [],
   "source": [
    "class Edge(object):\n",
    "    def __init__(self, value, node_from, node_to):\n",
    "        self.value = value\n",
    "        self.node_from = node_from\n",
    "        self.node_to = node_to"
   ]
  },
  {
   "cell_type": "code",
   "execution_count": 136,
   "metadata": {},
   "outputs": [],
   "source": [
    "class Graph(object):\n",
    "    def __init__(self, nodes=[], edges=[]):\n",
    "        self.nodes = nodes\n",
    "        self.edges = edges\n",
    "\n",
    "    def insert_node(self, new_node_val):\n",
    "        new_node = Node(new_node_val)\n",
    "        self.nodes.append(new_node)\n",
    "        \n",
    "    def insert_edge(self, new_edge_val, node_from_val, node_to_val):\n",
    "        from_found = None\n",
    "        to_found = None\n",
    "        for node in self.nodes:\n",
    "            if node_from_val == node.value:\n",
    "                from_found = node\n",
    "            if node_to_val == node.value:\n",
    "                to_found = node\n",
    "        if from_found == None:\n",
    "            from_found = Node(node_from_val)\n",
    "            self.nodes.append(from_found)\n",
    "        if to_found == None:\n",
    "            to_found = Node(node_to_val)\n",
    "            self.nodes.append(to_found)\n",
    "        new_edge = Edge(new_edge_val, from_found, to_found)\n",
    "        from_found.edges.append(new_edge)\n",
    "        to_found.edges.append(new_edge)\n",
    "        self.edges.append(new_edge)\n",
    "\n",
    "    def get_edge_list(self):\n",
    "        \"\"\"Don't return a list of edge objects!\n",
    "        Return a list of triples that looks like this:\n",
    "        (Edge Value, From Node Value, To Node Value)\"\"\"\n",
    "        edgeList = []\n",
    "        for e in self.edges : \n",
    "            edge = [e.value , e.node_from.value , e.node_to.value]\n",
    "            edgeList.append(edge)\n",
    "        return edgeList\n",
    "    \n",
    "\n",
    "    def get_adjacency_list(self):\n",
    "        \"\"\"Don't return any Node or Edge objects!\n",
    "        You'll return a list of lists.\n",
    "        The indecies of the outer list represent\n",
    "        \"from\" nodes.\n",
    "        Each section in the list will store a list\n",
    "        of tuples that looks like this:\n",
    "        (To Node, Edge Value)\"\"\"\n",
    "        adj_list = [None]*len(self.nodes)\n",
    "        for e in self.edges :\n",
    "            if adj_list[e.node_from.value]:\n",
    "                adj_list[e.node_from.value].append((e.node_to.value,e.value))\n",
    "            else :\n",
    "                adj_list[e.node_from.value] = [(e.node_to.value,e.value)]\n",
    "        return adj_list\n",
    "    \n",
    "    def get_adjacency_matrix(self):\n",
    "        adjacency_matrix = [[0 for i in range(len(self.nodes)+1)] for j in range(len(self.nodes) + 1)]\n",
    "\n",
    "        for edge_object in self.edges:\n",
    "            adjacency_matrix[edge_object.node_from.value][edge_object.node_to.value] = edge_object.value\n",
    "        return adjacency_matrix\n"
   ]
  },
  {
   "cell_type": "code",
   "execution_count": 137,
   "metadata": {
    "collapsed": true
   },
   "outputs": [],
   "source": [
    "def main():\n",
    "    graph = Graph()\n",
    "    graph.insert_edge(100, 1, 2)\n",
    "    graph.insert_edge(101, 1, 3)\n",
    "    graph.insert_edge(102, 1, 4)\n",
    "    graph.insert_edge(103, 3, 4)\n",
    "    # Should be [(100, 1, 2), (101, 1, 3), (102, 1, 4), (103, 3, 4)]\n",
    "    print graph.get_edge_list()\n",
    "    # Should be [None, [(2, 100), (3, 101), (4, 102)], None, [(4, 103)], None]\n",
    "    print graph.get_adjacency_list()\n",
    "    # Should be [[0, 0, 0, 0, 0], [0, 0, 100, 101, 102], [0, 0, 0, 0, 0], [0, 0, 0, 0, 103], [0, 0, 0, 0, 0]]\n",
    "    print graph.get_adjacency_matrix()"
   ]
  },
  {
   "cell_type": "code",
   "execution_count": 138,
   "metadata": {},
   "outputs": [
    {
     "name": "stdout",
     "output_type": "stream",
     "text": [
      "[[100, 1, 2], [101, 1, 3], [102, 1, 4], [103, 3, 4]]\n",
      "[None, [(2, 100), (3, 101), (4, 102)], None, [(4, 103)]]\n",
      "[[0, 0, 0, 0, 0], [0, 0, 100, 101, 102], [0, 0, 0, 0, 0], [0, 0, 0, 0, 103], [0, 0, 0, 0, 0]]\n"
     ]
    }
   ],
   "source": [
    "if  __name__ =='__main__':main()"
   ]
  },
  {
   "cell_type": "markdown",
   "metadata": {},
   "source": [
    "# Resources \n",
    "\n",
    "1. http://www.geeksforgeeks.org/graph-data-structure-and-algorithms/\n",
    "2. http://www.geeksforgeeks.org/graph-and-its-representations/\n",
    "3. https://en.wikipedia.org/wiki/Graph_%28abstract_data_type%29\n",
    "4. https://www.youtube.com/watch?v=gXgEDyodOJU"
   ]
  },
  {
   "cell_type": "code",
   "execution_count": 90,
   "metadata": {},
   "outputs": [
    {
     "name": "stdout",
     "output_type": "stream",
     "text": [
      "[[1, 2, 3], [4, 5, 10], [7, 8, 9]]\n",
      "[4, 5, 10]\n",
      "10\n"
     ]
    }
   ],
   "source": [
    "a = [[1,2,3],[4,5,6],[7,8,9]]\n",
    "a[1][2]=10\n",
    "print a\n",
    "print a[1]\n",
    "print a[1][2]"
   ]
  },
  {
   "cell_type": "code",
   "execution_count": null,
   "metadata": {
    "collapsed": true
   },
   "outputs": [],
   "source": []
  },
  {
   "cell_type": "code",
   "execution_count": null,
   "metadata": {
    "collapsed": true
   },
   "outputs": [],
   "source": []
  }
 ],
 "metadata": {
  "anaconda-cloud": {},
  "kernelspec": {
   "display_name": "Python 2",
   "language": "python",
   "name": "python2"
  },
  "language_info": {
   "codemirror_mode": {
    "name": "ipython",
    "version": 2
   },
   "file_extension": ".py",
   "mimetype": "text/x-python",
   "name": "python",
   "nbconvert_exporter": "python",
   "pygments_lexer": "ipython2",
   "version": "2.7.13"
  }
 },
 "nbformat": 4,
 "nbformat_minor": 2
}
