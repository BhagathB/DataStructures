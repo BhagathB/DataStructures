{
 "cells": [
  {
   "cell_type": "markdown",
   "metadata": {},
   "source": [
    "# Graph Data Structure Implementation\n",
    "\n",
    "Graph is a data structure that consists of following two components:\n",
    "1. A finite set of vertices also called as nodes.\n",
    "2. A finite set of ordered pair of the form (u, v) called as edge. The pair is ordered because (u, v) is not same as (v, u) in case of directed graph(di-graph). The pair of form (u, v) indicates that there is an edge from vertex u to vertex v. The edges may contain weight/value/cost.\n",
    "\n",
    "The basic operations provided by a graph data structure G usually include:\n",
    "1. adjacent(G, x, y): tests whether there is an edge from the vertex x to the vertex y;\n",
    "2. neighbors(G, x): lists all vertices y such that there is an edge from the vertex x to the vertex y;\n",
    "3. add_vertex(G, x): adds the vertex x, if it is not there;\n",
    "4. remove_vertex(G, x): removes the vertex x, if it is there;\n",
    "5. add_edge(G, x, y): adds the edge from the vertex x to the vertex y, if it is not there;\n",
    "6. remove_edge(G, x, y): removes the edge from the vertex x to the vertex y, if it is there;\n",
    "7. get_vertex_value(G, x): returns the v\n",
    "alue associated with the vertex x;\n",
    "8. set_vertex_value(G, x, v): sets the value associated with the vertex x to v.\n",
    "9. get_edge_value(G, x, y): returns the value associated with the edge (x, y).\n",
    "10. set_edge_value(G, x, y, v): sets the value associated with the edge (x, y) to v."
   ]
  },
  {
   "cell_type": "code",
   "execution_count": 9,
   "metadata": {},
   "outputs": [],
   "source": [
    "class Graph:\n",
    "    #Constructor for the class Graph\n",
    "    # Graph[x] = {{'y',ew},{'z','ew'}}\n",
    "    def __init__(self,num_of_vertices):\n",
    "        self.num_of_vertices = num_of_vertices\n",
    "        self.vertex_list = {}\n",
    "     \n",
    "    #add Vertex to the graph and x is the vertex\n",
    "    def add_vertex(self,x):\n",
    "        is_vertex_present = self.check_vertex(x)\n",
    "        if(is_vertex_present) :\n",
    "            return 'already in list'\n",
    "        else :\n",
    "            self.vertex_list[x] = None\n",
    "            self.num_of_vertices += 1\n",
    "            return 'added to list :',x\n",
    "    \n",
    "    #get vertex value of a vertex in the graph\n",
    "    def get_vertex_value(self,x):\n",
    "        is_vertex_present = self.check_vertex(x)\n",
    "        if (is_vertex_present):\n",
    "            return 'vertex value is ',self.vertex_list[x]\n",
    "        else :\n",
    "            return 'vertex is not found in the Graph'\n",
    "    \n",
    "    #Set the vertex value of a vertex in the graph\n",
    "    def set_vertex_value(self,x,v):\n",
    "        is_vertex_present = self.check_vertex(x)\n",
    "        if (is_vertex_present):\n",
    "            self.vertex_list[x] = v\n",
    "            return 'New vertex value is ',self.vertex_list[x]\n",
    "        else :\n",
    "            return 'vertex is not found in the Graph'\n",
    "    \n",
    "    #This will return vertext_list[vertex] if vertex exists in the dictionary, and None otherwise. \n",
    "    def remove_vertex(self,x):\n",
    "        if self.vertex_list.pop(x,None) :\n",
    "            self.num_of_vertices = self.num_of_vertices - 1\n",
    "            return x,' is removed'\n",
    "        else :\n",
    "            return x,' is not found in the graph'\n",
    "            \n",
    "    # Get the adjacency list for a vertex\n",
    "    def adjacent(self,x,y):\n",
    "        is_vertex_present1 = self.check_vertex(x)\n",
    "        is_vertex_present2 = self.check_vertex(y)\n",
    "        if ((y in self.vertex_list[x]) | (x in self.vertex_list[y]) ):\n",
    "            return True\n",
    "        else :\n",
    "            return False\n",
    "    \n",
    "    #Get the list of neighbors\n",
    "    def neighbors(self,x):\n",
    "        is_vertex_present1 = self.check_vertex(x)\n",
    "        neighbors = []\n",
    "        for keys in self.vertex_list[x]:\n",
    "            neighbors.append(keys)\n",
    "        return neighbors\n",
    "    \n",
    "    def add_edge(self,x,y):\n",
    "        is_vertex_present = self.check_vertex(x)\n",
    "        is_vertex_present2 = self.check_vertex(y)\n",
    "        if ~is_vertex_present :\n",
    "            self.add_vertex(x)\n",
    "        if ~is_vertex_present2 :\n",
    "            self.add_vertex(y)\n",
    "        dest_index = {}\n",
    "        dest_index[y] = None\n",
    "        self.vertex_list[x].append(dest_index)\n",
    "        \n",
    "    def remove_edge(self,x,y):\n",
    "        pass\n",
    "    \n",
    "    def get_edge_value(self,x,y):\n",
    "        is_vertex_present = self.check_vertex(x)\n",
    "        is_vertex_present2 = self.check_vertex(y)\n",
    "        if ~is_vertex_present :\n",
    "            return x,'is not found in the graph'\n",
    "        if ~is_vertex_present2 :\n",
    "            return y,'is not found in the graph'\n",
    "        return self.vertex_list[x][y]\n",
    "        \n",
    "    def set_edge_value(self,x,y,v):\n",
    "        is_vertex_present = self.check_vertex(x)\n",
    "        is_vertex_present2 = self.check_vertex(y)\n",
    "        if ~is_vertex_present :\n",
    "            return x,'is not found in the graph'\n",
    "        if ~is_vertex_present2 :\n",
    "            return y,'is not found in the graph'\n",
    "        self.vertex_list[x][y] = v\n",
    "        return 'Updated value of the edge is :',self.vertex_list[x][y]\n",
    "    \n",
    "    def get_number_of_vertices(self):\n",
    "        return self.num_of_vertices\n",
    "    \n",
    "    def check_vertex(self,x):\n",
    "        if(x in self.vertex_list) :\n",
    "            return True\n",
    "        else :\n",
    "            return False\n",
    "    "
   ]
  },
  {
   "cell_type": "code",
   "execution_count": 10,
   "metadata": {
    "collapsed": true
   },
   "outputs": [],
   "source": [
    "def main():\n",
    "    num_of_vertices = int(input(\"Enter number of vertices\"))\n",
    "    G = Graph(num_of_vertices)\n",
    "    for i in range(1,10):\n",
    "        print G.add_vertex(i*4)\n",
    "    print G.get_number_of_vertices()\n",
    "    G.add_edge(4,12)\n",
    "    print G.adjacent(4,12) "
   ]
  },
  {
   "cell_type": "code",
   "execution_count": 11,
   "metadata": {},
   "outputs": [
    {
     "name": "stdout",
     "output_type": "stream",
     "text": [
      "Enter number of vertices0\n",
      "('added to list :', 4)\n",
      "('added to list :', 8)\n",
      "('added to list :', 12)\n",
      "('added to list :', 16)\n",
      "('added to list :', 20)\n",
      "('added to list :', 24)\n",
      "('added to list :', 28)\n",
      "('added to list :', 32)\n",
      "('added to list :', 36)\n",
      "9\n"
     ]
    },
    {
     "ename": "AttributeError",
     "evalue": "'NoneType' object has no attribute 'append'",
     "output_type": "error",
     "traceback": [
      "\u001b[0;31m---------------------------------------------------------------------------\u001b[0m",
      "\u001b[0;31mAttributeError\u001b[0m                            Traceback (most recent call last)",
      "\u001b[0;32m<ipython-input-11-a3c5b7c73933>\u001b[0m in \u001b[0;36m<module>\u001b[0;34m()\u001b[0m\n\u001b[0;32m----> 1\u001b[0;31m \u001b[1;32mif\u001b[0m  \u001b[0m__name__\u001b[0m \u001b[1;33m==\u001b[0m\u001b[1;34m'__main__'\u001b[0m\u001b[1;33m:\u001b[0m\u001b[0mmain\u001b[0m\u001b[1;33m(\u001b[0m\u001b[1;33m)\u001b[0m\u001b[1;33m\u001b[0m\u001b[0m\n\u001b[0m",
      "\u001b[0;32m<ipython-input-10-ba99a8dfa6b2>\u001b[0m in \u001b[0;36mmain\u001b[0;34m()\u001b[0m\n\u001b[1;32m      5\u001b[0m         \u001b[1;32mprint\u001b[0m \u001b[0mG\u001b[0m\u001b[1;33m.\u001b[0m\u001b[0madd_vertex\u001b[0m\u001b[1;33m(\u001b[0m\u001b[0mi\u001b[0m\u001b[1;33m*\u001b[0m\u001b[1;36m4\u001b[0m\u001b[1;33m)\u001b[0m\u001b[1;33m\u001b[0m\u001b[0m\n\u001b[1;32m      6\u001b[0m     \u001b[1;32mprint\u001b[0m \u001b[0mG\u001b[0m\u001b[1;33m.\u001b[0m\u001b[0mget_number_of_vertices\u001b[0m\u001b[1;33m(\u001b[0m\u001b[1;33m)\u001b[0m\u001b[1;33m\u001b[0m\u001b[0m\n\u001b[0;32m----> 7\u001b[0;31m     \u001b[0mG\u001b[0m\u001b[1;33m.\u001b[0m\u001b[0madd_edge\u001b[0m\u001b[1;33m(\u001b[0m\u001b[1;36m4\u001b[0m\u001b[1;33m,\u001b[0m\u001b[1;36m12\u001b[0m\u001b[1;33m)\u001b[0m\u001b[1;33m\u001b[0m\u001b[0m\n\u001b[0m\u001b[1;32m      8\u001b[0m     \u001b[1;32mprint\u001b[0m \u001b[0mG\u001b[0m\u001b[1;33m.\u001b[0m\u001b[0madjacent\u001b[0m\u001b[1;33m(\u001b[0m\u001b[1;36m4\u001b[0m\u001b[1;33m,\u001b[0m\u001b[1;36m12\u001b[0m\u001b[1;33m)\u001b[0m\u001b[1;33m\u001b[0m\u001b[0m\n",
      "\u001b[0;32m<ipython-input-9-94f47aa1fdba>\u001b[0m in \u001b[0;36madd_edge\u001b[0;34m(self, x, y)\u001b[0m\n\u001b[1;32m     67\u001b[0m         \u001b[0mdest_index\u001b[0m \u001b[1;33m=\u001b[0m \u001b[1;33m{\u001b[0m\u001b[1;33m}\u001b[0m\u001b[1;33m\u001b[0m\u001b[0m\n\u001b[1;32m     68\u001b[0m         \u001b[0mdest_index\u001b[0m\u001b[1;33m[\u001b[0m\u001b[0my\u001b[0m\u001b[1;33m]\u001b[0m \u001b[1;33m=\u001b[0m \u001b[0mNone\u001b[0m\u001b[1;33m\u001b[0m\u001b[0m\n\u001b[0;32m---> 69\u001b[0;31m         \u001b[0mself\u001b[0m\u001b[1;33m.\u001b[0m\u001b[0mvertex_list\u001b[0m\u001b[1;33m[\u001b[0m\u001b[0mx\u001b[0m\u001b[1;33m]\u001b[0m\u001b[1;33m.\u001b[0m\u001b[0mappend\u001b[0m\u001b[1;33m(\u001b[0m\u001b[0mdest_index\u001b[0m\u001b[1;33m)\u001b[0m\u001b[1;33m\u001b[0m\u001b[0m\n\u001b[0m\u001b[1;32m     70\u001b[0m \u001b[1;33m\u001b[0m\u001b[0m\n\u001b[1;32m     71\u001b[0m     \u001b[1;32mdef\u001b[0m \u001b[0mremove_edge\u001b[0m\u001b[1;33m(\u001b[0m\u001b[0mself\u001b[0m\u001b[1;33m,\u001b[0m\u001b[0mx\u001b[0m\u001b[1;33m,\u001b[0m\u001b[0my\u001b[0m\u001b[1;33m)\u001b[0m\u001b[1;33m:\u001b[0m\u001b[1;33m\u001b[0m\u001b[0m\n",
      "\u001b[0;31mAttributeError\u001b[0m: 'NoneType' object has no attribute 'append'"
     ]
    }
   ],
   "source": [
    "if  __name__ =='__main__':main()"
   ]
  },
  {
   "cell_type": "markdown",
   "metadata": {},
   "source": [
    "# Resources \n",
    "\n",
    "1. http://www.geeksforgeeks.org/graph-data-structure-and-algorithms/\n",
    "2. http://www.geeksforgeeks.org/graph-and-its-representations/\n",
    "3. https://en.wikipedia.org/wiki/Graph_%28abstract_data_type%29\n",
    "4. https://www.youtube.com/watch?v=gXgEDyodOJU"
   ]
  },
  {
   "cell_type": "code",
   "execution_count": null,
   "metadata": {
    "collapsed": true
   },
   "outputs": [],
   "source": []
  }
 ],
 "metadata": {
  "anaconda-cloud": {},
  "kernelspec": {
   "display_name": "Python [default]",
   "language": "python",
   "name": "python2"
  },
  "language_info": {
   "codemirror_mode": {
    "name": "ipython",
    "version": 2
   },
   "file_extension": ".py",
   "mimetype": "text/x-python",
   "name": "python",
   "nbconvert_exporter": "python",
   "pygments_lexer": "ipython2",
   "version": "2.7.12"
  }
 },
 "nbformat": 4,
 "nbformat_minor": 2
}
