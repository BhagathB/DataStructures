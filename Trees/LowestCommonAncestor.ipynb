{
 "cells": [
  {
   "cell_type": "markdown",
   "metadata": {},
   "source": [
    "# Question : \n",
    "\n",
    "Given the value of two nodes in a BST, find the lowest(nearest) common ancestor. You may assume that both values already exist in the tree.\n"
   ]
  },
  {
   "cell_type": "markdown",
   "metadata": {},
   "source": [
    "# Answer :\n",
    "\n",
    "## Method 1 : \n",
    "- Make ancestors list for both nodes and then findout where they first differ. The nodes immediately above this divergence is the node we are looking for. It works for all trees with O(n) as worst case time complexity. \n",
    "- But, in this case, we are using BST which already have special properties. If we can make use of this properties, we might come up with more effecient algorithm.\n",
    "    \n",
    "    Time Complexity : O(n)\n",
    "\n",
    "## Method 2 : \n",
    "- BST has a special property, left child's value is less than or equal to parent node and right child's value is greater than equal to parent node.\n",
    "- The root node is ancestor to all nodes.\n",
    "- Basing on these two, we can right an algorithm :\n",
    "\n",
    "            1. Examine the current node \n",
    "            2. If node_1_value and node_2_value are both less than current node value : \n",
    "                    a. Examine the left child\n",
    "            3. If node_1_value and node_2_value are both greater than current node value : \n",
    "                    a. Examine the right child\n",
    "            4. Otherwise \n",
    "                The current node is the lowest common ancestor\n",
    "   \n",
    "   Time complexity : O(log n)\n",
    "    "
   ]
  },
  {
   "cell_type": "code",
   "execution_count": 1,
   "metadata": {
    "collapsed": true
   },
   "outputs": [],
   "source": [
    "## Creating a binary tree Class\n",
    "\n",
    "#Create a Node object which has a value and two pointers to left subchild, right subchild\n",
    "class Node(object):\n",
    "    def __init__(self, value):\n",
    "        self.value = value\n",
    "        self.left = None\n",
    "        self.right = None"
   ]
  },
  {
   "cell_type": "code",
   "execution_count": 2,
   "metadata": {},
   "outputs": [],
   "source": [
    "# Binary Tree \n",
    "class BinaryTree(object):\n",
    "    def __init__(self, root=None):\n",
    "        if root :\n",
    "            self.root = Node(root)\n",
    "        else :\n",
    "            self.root = None\n",
    "    \n",
    "    \"\"\" Helper methods for a tree: insert into a tree, print tree in preorder\"\"\"\n",
    "    def insert(self, new_val):\n",
    "        if self.root==None:\n",
    "            self.root = Node(new_val)\n",
    "        else :\n",
    "            self.insert_helper(self.root, new_val)\n",
    "\n",
    "    def insert_helper(self, current, new_val):\n",
    "        if current.value < new_val:\n",
    "            if current.right:\n",
    "                self.insert_helper(current.right, new_val)\n",
    "            else:\n",
    "                current.right = Node(new_val)\n",
    "        else:\n",
    "            if current.left:\n",
    "                self.insert_helper(current.left, new_val)\n",
    "            else:\n",
    "                current.left = Node(new_val)\n",
    "    \n",
    "    def get_value(self,node):\n",
    "        return node.value\n",
    "    \n",
    "    def print_tree(self):\n",
    "        return (self.preorder_print(tree.root, \"\")[:-2])\n",
    "    \n",
    "    def preorder_print(self, start, traversal):\n",
    "        if start:\n",
    "            traversal += (str(self.get_value(start)) + '->')\n",
    "            traversal = self.preorder_print(start.left,traversal)\n",
    "            traversal = self.preorder_print(start.right,traversal)\n",
    "        return traversal\n",
    "    \n",
    "    def getAncestorsList(self,start,value):\n",
    "        Ancestorlist = []\n",
    "        while start :\n",
    "            node_val = self.get_value(start)\n",
    "            Ancestorlist.append(node_val)\n",
    "            if node_val > value:\n",
    "                start = start.left\n",
    "            elif node_val < value :\n",
    "                start = start.right\n",
    "            elif node_val == value :\n",
    "                return Ancestorlist\n",
    "        return []\n",
    "    \n",
    "    \"\"\" Method 1 answer for question\"\"\"\n",
    "    def findLowestAncestor1(self, value1, value2):\n",
    "        traversal_value1 = self.getAncestorsList(tree.root,value1)\n",
    "        traversal_value2 = self.getAncestorsList(tree.root,value2)\n",
    "        for i in range(0, max(len(traversal_value1),len(traversal_value2))):\n",
    "            if traversal_value1[i] != traversal_value2[i]:\n",
    "                return traversal_value1[i-1]\n",
    "        return None \n",
    "    \n",
    "    \"\"\" Method 2 answer for question\"\"\"\n",
    "    def findLowestAncestor2(self, value1, value2):\n",
    "        start = self.root\n",
    "        while start :\n",
    "            node_val = self.get_value(start)\n",
    "            if ((node_val>value1) and (node_val>value2)) :\n",
    "                start = start.left\n",
    "            elif node_val<value1 and node_val<value2 :\n",
    "                start = start.right\n",
    "            else :\n",
    "                return node_val\n",
    "        # for empty trees or trees that do not contain given values return null\n",
    "        return None "
   ]
  },
  {
   "cell_type": "code",
   "execution_count": 4,
   "metadata": {},
   "outputs": [
    {
     "name": "stdout",
     "output_type": "stream",
     "text": [
      "tree 6->1->3->2->5->4->15->9->8->7->12->11->10->13->14->17->16->20->18->19->21->24->23->22\n",
      "Answer in Method 1\n",
      "None\n",
      "15\n",
      "-----------\n",
      "Method 2 \n",
      "None\n",
      "15\n"
     ]
    }
   ],
   "source": [
    "# Test here\n",
    "import random\n",
    "\n",
    "# take some random 25 values and insert into tree\n",
    "values = range(1,25)\n",
    "random.shuffle(values)\n",
    "\n",
    "# create a tree\n",
    "tree = BinaryTree()\n",
    "\n",
    "for i in values :\n",
    "    tree.insert(i)\n",
    "\n",
    "print 'tree',tree.print_tree()\n",
    "    \n",
    "# Return None\n",
    "print 'Answer in Method 1'\n",
    "print tree.findLowestAncestor1(51,62) \n",
    "print tree.findLowestAncestor1(8,20) \n",
    "\n",
    "print  '-----------' \n",
    "print 'Method 2 '\n",
    "print tree.findLowestAncestor2(51,62) \n",
    "print tree.findLowestAncestor2(8,20) \n",
    "    "
   ]
  },
  {
   "cell_type": "code",
   "execution_count": null,
   "metadata": {
    "collapsed": true
   },
   "outputs": [],
   "source": []
  }
 ],
 "metadata": {
  "kernelspec": {
   "display_name": "Python 2",
   "language": "python",
   "name": "python2"
  },
  "language_info": {
   "codemirror_mode": {
    "name": "ipython",
    "version": 2
   },
   "file_extension": ".py",
   "mimetype": "text/x-python",
   "name": "python",
   "nbconvert_exporter": "python",
   "pygments_lexer": "ipython2",
   "version": "2.7.13"
  }
 },
 "nbformat": 4,
 "nbformat_minor": 2
}
