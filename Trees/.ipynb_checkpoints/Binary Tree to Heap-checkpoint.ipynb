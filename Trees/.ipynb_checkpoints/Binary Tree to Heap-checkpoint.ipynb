{
 "cells": [
  {
   "cell_type": "markdown",
   "metadata": {},
   "source": [
    "# Binary tree to Heap"
   ]
  },
  {
   "cell_type": "markdown",
   "metadata": {},
   "source": [
    "## Question :\n",
    "\n",
    "You are given a set of integers in an unordered binary tree.Use an array sorting routine to transform the tree into a heap that uses a balanced binary tree as its underlying data structure."
   ]
  },
  {
   "cell_type": "markdown",
   "metadata": {},
   "source": [
    "# Answer :\n",
    "\n",
    "To convert a tree datastructure into array[O(n)] and sort the array[O(n*log(n))] and then convert back to tree[O(n)] will take time. **So, just heapify the tree[O(n)] would be a better approach for this problem.***\n",
    "\n",
    "\n",
    "First, we convert a tree into array using tree traversal. To create a array[static array], we need to traverse tree and find the number of nodes, so that we can allocate enough memory for the nodes.Then traverse the tree again to insert values into the array. To complete step 1, we need to traverse tree twice, 1 to count number of nodes, 2 to insert nodes into the array.\n",
    "\n",
    "Second, To construct a balanced binary tree from the array. It is the most difficult part, as to make the tree balanced during insertion without heapify it. Using breadth first traversal technique, we have to insert nodes from array into the tree. Therefore, we can use the index as array to specify the children of the node.\n",
    "        \n",
    "        - The children of the node at index i are located at 2i+1 and 2i+2\n",
    "\n",
    "Algorithm : \n",
    "1. Traverse the tree and get number of nodes\n",
    "2. Create a array and insert nodes of tree into array using tree traversal.\n",
    "3. Sort the array\n",
    "4. Convert the sorted array into a balanced tree.\n",
    "5. Return root\n",
    "\n",
    "Time Complexity : \n",
    "  ***  O(n * log(n)) **"
   ]
  },
  {
   "cell_type": "code",
   "execution_count": 88,
   "metadata": {
    "collapsed": true
   },
   "outputs": [],
   "source": [
    "## Creating a binary tree Class\n",
    "\n",
    "#Create a Node object which has a value and two pointers to left subchild, right subchild\n",
    "class Node(object):\n",
    "    def __init__(self, value):\n",
    "        self.value = value\n",
    "        self.left = None\n",
    "        self.right = None"
   ]
  },
  {
   "cell_type": "code",
   "execution_count": 89,
   "metadata": {},
   "outputs": [],
   "source": [
    "# Binary Tree \n",
    "class BinaryTree(object):\n",
    "    def __init__(self, root=None):\n",
    "        if root :\n",
    "            self.root = Node(root)\n",
    "        else :\n",
    "            self.root = None\n",
    "    \n",
    "    \"\"\" Helper methods for a tree: insert into a tree, print tree in preorder\"\"\"\n",
    "    def insert(self, new_val):\n",
    "        if self.root==None:\n",
    "            self.root = Node(new_val)\n",
    "        else :\n",
    "            self.insert_helper(self.root, new_val)\n",
    "\n",
    "    def insert_helper(self, current, new_val):\n",
    "        if current.value < new_val:\n",
    "            if current.right:\n",
    "                self.insert_helper(current.right, new_val)\n",
    "            else:\n",
    "                current.right = Node(new_val)\n",
    "        else:\n",
    "            if current.left:\n",
    "                self.insert_helper(current.left, new_val)\n",
    "            else:\n",
    "                current.left = Node(new_val)\n",
    "    \n",
    "    def get_value(self,node):\n",
    "        return node.value\n",
    "    \n",
    "    def print_tree(self):\n",
    "        return (self.preorder_print(tree.root, \"\")[:-2])\n",
    "    \n",
    "    def preorder_print(self, start, traversal):\n",
    "        if start:\n",
    "            traversal += (str(self.get_value(start)) + '->')\n",
    "            traversal = self.preorder_print(start.left,traversal)\n",
    "            traversal = self.preorder_print(start.right,traversal)\n",
    "        return traversal\n",
    "    \n",
    "    def height(self,start):\n",
    "        \"\"\"\n",
    "                Height of tree at node n = 1 + max (height(leftsubtree),height(rightsubtree))\n",
    "                time complexity = O(n)\n",
    "        \"\"\"\n",
    "        if start : \n",
    "            return 1 + max(self.height(start.left), self.height(start.right))\n",
    "        else : \n",
    "            return 0\n",
    "    \n",
    "    \"\"\" Helper methods for out function binarytoheap\"\"\"\n",
    "    \"\"\" Step 1 : get the count of numbers\"\"\"\n",
    "    def get_count(self,start):\n",
    "        if start:\n",
    "            leftcount = self.get_count(start.left)\n",
    "            rightcount = self.get_count(start.right)\n",
    "            return 1+leftcount + rightcount\n",
    "        else :\n",
    "            return 0\n",
    "            \n",
    "    def number_of_nodes(self):\n",
    "        return self.get_count(self.root)\n",
    "    \n",
    "    \"\"\" Step 2 : Convert the tree to array\"\"\"\n",
    "    def tree_to_array(self,start,array):\n",
    "        if start:\n",
    "            array.append(start.value)\n",
    "            self.tree_to_array(start.left,array)\n",
    "            self.tree_to_array(start.right,array)\n",
    "            return array\n",
    "        else :\n",
    "            return None\n",
    "        \n",
    "    \"\"\" Step 4 : Convert the array to tree\"\"\"\n",
    "    def max_heap(self,array):\n",
    "        size = len(array)\n",
    "        for i in range(0,size) :\n",
    "            array[i] = Node(array[i])\n",
    "        for i in range(0,size) :    \n",
    "            if (2*i+1) <size:\n",
    "                array[i].left = array[2*i+1]\n",
    "            if (2*i+2) <size:\n",
    "                array[i].right = array[2*i+2]\n",
    "        return array[0]\n",
    "    \n",
    "    \"\"\" Answer\"\"\"\n",
    "    def binarytoheap(self):\n",
    "        node_count = self.number_of_nodes() #step 1\n",
    "        array = self.tree_to_array(self.root,[]*node_count) #step 2\n",
    "        array = sorted(array,reverse=True) #step 3\n",
    "        self.root = self.max_heap(array) # step 4\n",
    "        return self.root # step 5"
   ]
  },
  {
   "cell_type": "code",
   "execution_count": 90,
   "metadata": {},
   "outputs": [
    {
     "name": "stdout",
     "output_type": "stream",
     "text": [
      "tree :  4->1->3->2->9->5->7->6->8\n",
      "Height :  5\n",
      "Number of nodes :  9\n",
      "Binary to heap :  <__main__.Node object at 0x107297850>\n",
      "tree :  9->8->6->2->1->5->7->4->3\n",
      "Height :  4\n"
     ]
    }
   ],
   "source": [
    "# Test here\n",
    "import random\n",
    "\n",
    "# take some random 25 values and insert into tree\n",
    "values = range(1,10)\n",
    "random.shuffle(values)\n",
    "\n",
    "# create a tree\n",
    "tree = BinaryTree()\n",
    "\n",
    "for i in values :\n",
    "    tree.insert(i)\n",
    "\n",
    "print 'tree : ',tree.print_tree()\n",
    "print 'Height : ',tree.height(tree.root)\n",
    "\n",
    "print 'Number of nodes : ',tree.number_of_nodes()\n",
    "print 'Binary to heap : ', tree.binarytoheap()\n",
    "print 'tree : ',tree.print_tree()\n",
    "print 'Height : ',tree.height(tree.root)"
   ]
  },
  {
   "cell_type": "code",
   "execution_count": null,
   "metadata": {
    "collapsed": true
   },
   "outputs": [],
   "source": []
  },
  {
   "cell_type": "code",
   "execution_count": null,
   "metadata": {
    "collapsed": true
   },
   "outputs": [],
   "source": []
  }
 ],
 "metadata": {
  "kernelspec": {
   "display_name": "Python 2",
   "language": "python",
   "name": "python2"
  },
  "language_info": {
   "codemirror_mode": {
    "name": "ipython",
    "version": 2
   },
   "file_extension": ".py",
   "mimetype": "text/x-python",
   "name": "python",
   "nbconvert_exporter": "python",
   "pygments_lexer": "ipython2",
   "version": "2.7.13"
  }
 },
 "nbformat": 4,
 "nbformat_minor": 2
}
