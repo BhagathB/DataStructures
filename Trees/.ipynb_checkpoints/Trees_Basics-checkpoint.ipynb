{
 "cells": [
  {
   "cell_type": "markdown",
   "metadata": {},
   "source": [
    "\n",
    "# Tree \n",
    "\n",
    "A tree is a data structure made up of nodes or vertices and edges without having any cycle. The tree with no nodes is called the null or empty tree. A tree that is not empty consists of a root node and potentially many levels of additional nodes that form a hierarchy.\n",
    "\n",
    "# Terminology: \n",
    "    - Root : The top node in a tree.\n",
    "    - Child : A node directly connected to another node when moving away from the Root.\n",
    "    - Parent : The converse notion of a child.\n",
    "    - Siblings : A group of nodes with the same parent.\n",
    "    - Descendant : A node reachable by repeated proceeding from parent to child.\n",
    "    - Ancestor : A node reachable by repeated proceeding from child to parent.\n",
    "    - Leaf : A node with no children.\n",
    "    - Branch : Connects two nodes.\n",
    "    - Internal node : A node with at least one child.\n",
    "    - Degree : The number of sub trees of a node.\n",
    "    - Edge : The connection between one node and another.\n",
    "    - Path : A sequence of nodes and edges connecting a node with a descendant.\n",
    "    - Level : The level of a node is defined by 1 + (the number of connections between the node and the root).\n",
    "    - Height of node : The height of a node is the number of edges on the longest path between that node and a leaf.\n",
    "    - Height of tree : The height of a tree is the height of its root node.\n",
    "    - Depth : The depth of a node is the number of edges from the tree's root node to the node.\n",
    "    - Forest : A forest is a set of n ≥ 0 disjoint trees.\n",
    "\n",
    "\n",
    "\n",
    "# Traversals :\n",
    "    - Breadth First Traversal  => More memory used to keep track of nodes\n",
    "        - Level Order Traversal\n",
    "    - Depth First Traversal => Less memory than BFS \n",
    "        - In-Order Traversal\n",
    "        - Pre-Order Traversal\n",
    "        - Post-Order Traversal\n",
    "\n",
    "# Methods :\n",
    "    - Create a tree (Constructor)\n",
    "    - Insert a node into Tree \n",
    "    - Search of a node in tree \n",
    "    - Delete a node in tree \n",
    "    - Print tree using any Traversals (listed above)\n",
    "    \n",
    "# Types :\n",
    "    - Binary Tree => Tree with each node has atmost 2 children.\n",
    "    - Heap => Extreme value has high priority(root). Max-heap and Min-Heap.\n",
    "    \n",
    "# Time Complexity :\n",
    "    1. General Tree: \n",
    "        Look up for a node : Usually -> O(n)\n",
    "            - Worst case: O(n); \n",
    "            - Average Case: O(n)\n",
    "            - Best Case: O(1)\n",
    "        Insert/Delete a node from Heap: Usually -> O(n)\n",
    "            - Worst case: O(n); \n",
    "            - Average Case: O(n) \n",
    "            - Best Case: O(1)\n",
    "            \n",
    "    2. Binary Search Tree :\n",
    "        Look up for a node : Usually -> O(log n)\n",
    "            - Worst case: O(n); \n",
    "            - Average Case: O(log n) {If bst is divided equally in both halves} ;\n",
    "            - Best Case: O(1)\n",
    "        Insert/Delete a node from BST: Usually -> O(log n)\n",
    "            - Worst case: O(n); \n",
    "            - Average Case: O(log n) {If bst is divided equally in both halves} ;\n",
    "            - Best Case: O(1)\n",
    "            \n",
    "    3. Heap : \n",
    "        Look up for a node : Usually -> O(n)\n",
    "            - Worst case: O(n); \n",
    "            - Average Case: O(n)\n",
    "            - Best Case: O(1)\n",
    "        Insert/Delete a node from Heap: Usually -> O(log n)\n",
    "            - Worst case: O(n); \n",
    "            - Average Case: O(log n) \n",
    "            - Best Case: O(1)\n",
    "        \n",
    "    "
   ]
  },
  {
   "cell_type": "code",
   "execution_count": 3,
   "metadata": {
    "collapsed": true
   },
   "outputs": [],
   "source": [
    "## Creating a binary tree Class\n",
    "\n",
    "#Create a Node object which has a value and two pointers to left subchild, right subchild\n",
    "class Node(object):\n",
    "    def __init__(self, value):\n",
    "        self.value = value\n",
    "        self.left = None\n",
    "        self.right = None"
   ]
  },
  {
   "cell_type": "code",
   "execution_count": 34,
   "metadata": {
    "collapsed": true
   },
   "outputs": [],
   "source": [
    "# Binary Tree \n",
    "class BinaryTree(object):\n",
    "    def __init__(self, root):\n",
    "        self.root = Node(root)\n",
    "\n",
    "    def search(self, find_val):\n",
    "        \"\"\"Return True if the value\n",
    "        is in the tree, return\n",
    "        False otherwise.\"\"\"\n",
    "        return self.preorder_search(tree.root,find_val)\n",
    "\n",
    "    def print_tree(self):\n",
    "        \"\"\"Print out all tree nodes\n",
    "        as they are visited in\n",
    "        a pre-order traversal.\"\"\"\n",
    "        return (self.preorder_print(tree.root, \"\")[:-2])\n",
    "    \n",
    "    def height(self,start):\n",
    "        \"\"\"\n",
    "                Height of tree at node n = 1 + max (height(leftsubtree),height(rightsubtree))\n",
    "                time complexity = O(n)\n",
    "        \"\"\"\n",
    "        if start : \n",
    "            return 1 + max(self.height(start.left), self.height(start.right))\n",
    "        else : \n",
    "            return 0\n",
    "    \n",
    "    def preorder_search(self, start, find_val):\n",
    "        \"\"\"Helper method - use this to create a \n",
    "        recursive search solution.\"\"\"\n",
    "        if start : \n",
    "            if start.value == find_val :\n",
    "                return True\n",
    "            else :\n",
    "                return self.preorder_search(start.left,find_val) or self.preorder_search(start.right,find_val)\n",
    "        return False\n",
    "\n",
    "    def preorder_print(self, start, traversal):\n",
    "        \"\"\"Helper method - use this to create a \n",
    "        recursive print solution.\"\"\"\n",
    "        if start:\n",
    "            traversal += (str(start.value) + '->')\n",
    "            traversal = self.preorder_print(start.left,traversal)\n",
    "            traversal = self.preorder_print(start.right,traversal)\n",
    "        return traversal"
   ]
  },
  {
   "cell_type": "code",
   "execution_count": 37,
   "metadata": {},
   "outputs": [
    {
     "name": "stdout",
     "output_type": "stream",
     "text": [
      "True\n",
      "True\n",
      "1->2->4->6->5->3\n",
      "4\n"
     ]
    }
   ],
   "source": [
    "# Testing\n",
    "\n",
    "# Set up tree\n",
    "tree = BinaryTree(1)\n",
    "tree.root.left = Node(2)\n",
    "tree.root.right = Node(3)\n",
    "tree.root.left.left = Node(4)\n",
    "tree.root.left.left.left = Node(6)\n",
    "tree.root.left.right = Node(5)\n",
    "\n",
    "# Test search\n",
    "# Should be True\n",
    "print tree.search(4)\n",
    "# Should be False\n",
    "print tree.search(6)\n",
    "\n",
    "# Test print_tree\n",
    "# Should be 1-2-4-5-3\n",
    "print tree.print_tree()\n",
    "\n",
    "print tree.height(tree.root)"
   ]
  },
  {
   "cell_type": "markdown",
   "metadata": {
    "collapsed": true
   },
   "source": [
    "# Questions :\n",
    "\n",
    "1. Given a node find the next highest node in BST?\n",
    "Ans : Time Complexity - O(log n)"
   ]
  },
  {
   "cell_type": "code",
   "execution_count": null,
   "metadata": {
    "collapsed": true
   },
   "outputs": [],
   "source": []
  }
 ],
 "metadata": {
  "kernelspec": {
   "display_name": "Python 2",
   "language": "python",
   "name": "python2"
  },
  "language_info": {
   "codemirror_mode": {
    "name": "ipython",
    "version": 2
   },
   "file_extension": ".py",
   "mimetype": "text/x-python",
   "name": "python",
   "nbconvert_exporter": "python",
   "pygments_lexer": "ipython2",
   "version": "2.7.13"
  }
 },
 "nbformat": 4,
 "nbformat_minor": 2
}
