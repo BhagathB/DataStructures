{
 "cells": [
  {
   "cell_type": "markdown",
   "metadata": {},
   "source": [
    "\n",
    "# Tree \n",
    "\n",
    "A tree is a data structure made up of nodes or vertices and edges without having any cycle. The tree with no nodes is called the null or empty tree. A tree that is not empty consists of a root node and potentially many levels of additional nodes that form a hierarchy.\n",
    "\n",
    "# Properties: \n",
    "    - Root : The top node in a tree.\n",
    "    - Child : A node directly connected to another node when moving away from the Root.\n",
    "    - Parent : The converse notion of a child.\n",
    "    - Siblings : A group of nodes with the same parent.\n",
    "    - Descendant : A node reachable by repeated proceeding from parent to child.\n",
    "    - Ancestor : A node reachable by repeated proceeding from child to parent.\n",
    "    - Leaf : A node with no children.\n",
    "    - Branch : Connects two nodes.\n",
    "    - Internal node : A node with at least one child.\n",
    "    - Degree : The number of sub trees of a node.\n",
    "    - Edge : The connection between one node and another.\n",
    "    - Path : A sequence of nodes and edges connecting a node with a descendant.\n",
    "    - Level : The level of a node is defined by 1 + (the number of connections between the node and the root).\n",
    "    - Height of node : The height of a node is the number of edges on the longest path between that node and a leaf.\n",
    "    - Height of tree : The height of a tree is the height of its root node.\n",
    "    - Depth : The depth of a node is the number of edges from the tree's root node to the node.\n",
    "    - Forest : A forest is a set of n ≥ 0 disjoint trees.\n",
    "\n",
    "\n",
    "\n",
    "# Traversals :\n",
    "    - Breadth First Traversal \n",
    "        - Level Order Traversal\n",
    "    - Depth First Traversal\n",
    "        - In-Order Traversal\n",
    "        - Pre-Order Traversal\n",
    "        - Post-Order Traversal\n",
    "\n",
    "\n",
    "# Methods :\n",
    "    - Create a tree (Constructor)\n",
    "    - Insert a node into Tree \n",
    "    - Search of a node in tree \n",
    "    - Delete a node in tree \n",
    "    - Print tree using any Traversals (listed above)\n",
    "# Types :\n",
    "    - Binary Tree => Tree with each node has atmost 2 children.\n",
    "    \n",
    "    "
   ]
  },
  {
   "cell_type": "code",
   "execution_count": 2,
   "metadata": {
    "collapsed": true
   },
   "outputs": [],
   "source": [
    "## Creating a binary tree Class\n",
    "\n",
    "#Create a Node object which has a value and two pointers to left subchild, right subchild\n",
    "class Node(object):\n",
    "    def __init__(self, value):\n",
    "        self.value = value\n",
    "        self.left = None\n",
    "        self.right = None"
   ]
  },
  {
   "cell_type": "code",
   "execution_count": 3,
   "metadata": {
    "collapsed": true
   },
   "outputs": [],
   "source": [
    "# Binary Tree \n",
    "class BinaryTree(object):\n",
    "    def __init__(self, root):\n",
    "        self.root = Node(root)\n",
    "\n",
    "    def search(self, find_val):\n",
    "        \"\"\"Return True if the value\n",
    "        is in the tree, return\n",
    "        False otherwise.\"\"\"\n",
    "        return False\n",
    "\n",
    "    def print_tree(self):\n",
    "        \"\"\"Print out all tree nodes\n",
    "        as they are visited in\n",
    "        a pre-order traversal.\"\"\"\n",
    "        return \"\"\n",
    "\n",
    "    def preorder_search(self, start, find_val):\n",
    "        \"\"\"Helper method - use this to create a \n",
    "        recursive search solution.\"\"\"\n",
    "        return False\n",
    "\n",
    "    def preorder_print(self, start, traversal):\n",
    "        \"\"\"Helper method - use this to create a \n",
    "        recursive print solution.\"\"\"\n",
    "        return traversal"
   ]
  },
  {
   "cell_type": "code",
   "execution_count": 4,
   "metadata": {},
   "outputs": [
    {
     "name": "stdout",
     "output_type": "stream",
     "text": [
      "False\n",
      "False\n",
      "\n"
     ]
    }
   ],
   "source": [
    "# Testing\n",
    "\n",
    "# Set up tree\n",
    "tree = BinaryTree(1)\n",
    "tree.root.left = Node(2)\n",
    "tree.root.right = Node(3)\n",
    "tree.root.left.left = Node(4)\n",
    "tree.root.left.right = Node(5)\n",
    "\n",
    "# Test search\n",
    "# Should be True\n",
    "print tree.search(4)\n",
    "# Should be False\n",
    "print tree.search(6)\n",
    "\n",
    "# Test print_tree\n",
    "# Should be 1-2-4-5-3\n",
    "print tree.print_tree()"
   ]
  },
  {
   "cell_type": "code",
   "execution_count": null,
   "metadata": {
    "collapsed": true
   },
   "outputs": [],
   "source": []
  }
 ],
 "metadata": {
  "kernelspec": {
   "display_name": "Python 2",
   "language": "python",
   "name": "python2"
  },
  "language_info": {
   "codemirror_mode": {
    "name": "ipython",
    "version": 2
   },
   "file_extension": ".py",
   "mimetype": "text/x-python",
   "name": "python",
   "nbconvert_exporter": "python",
   "pygments_lexer": "ipython2",
   "version": "2.7.13"
  }
 },
 "nbformat": 4,
 "nbformat_minor": 2
}
